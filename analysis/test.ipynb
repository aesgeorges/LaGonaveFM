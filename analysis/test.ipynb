{
 "cells": [
  {
   "cell_type": "code",
   "execution_count": 1,
   "id": "f4a7de8a",
   "metadata": {},
   "outputs": [],
   "source": [
    "import netCDF4 as netcdf"
   ]
  },
  {
   "cell_type": "code",
   "execution_count": 21,
   "id": "eadd6b99",
   "metadata": {},
   "outputs": [
    {
     "data": {
      "text/plain": [
       "masked_array(data=[1295997.25486],\n",
       "             mask=False,\n",
       "       fill_value=1e+20)"
      ]
     },
     "execution_count": 21,
     "metadata": {},
     "output_type": "execute_result"
    }
   ],
   "source": [
    "hotstart_clean = netcdf.Dataset('../sims/Gonave_Surge_mangrove/coldstart/fort.67.nc', 'r')\n",
    "hotstart_clean.variables['time'][:]"
   ]
  },
  {
   "cell_type": "code",
   "execution_count": 20,
   "id": "7d94e5a2",
   "metadata": {},
   "outputs": [
    {
     "data": {
      "text/plain": [
       "masked_array(data=[],\n",
       "             mask=False,\n",
       "       fill_value=1e+20,\n",
       "            dtype=float64)"
      ]
     },
     "execution_count": 20,
     "metadata": {},
     "output_type": "execute_result"
    }
   ],
   "source": [
    "hotstart = netcdf.Dataset('../staging/runs/Matthew2016_v3_test/coldstart/fort.67.nc', 'r')\n",
    "hotstart.variables['time'][:]"
   ]
  },
  {
   "cell_type": "code",
   "execution_count": 23,
   "id": "e557f727",
   "metadata": {},
   "outputs": [
    {
     "data": {
      "text/plain": [
       "<class 'netCDF4._netCDF4.Variable'>\n",
       "float64 time(time)\n",
       "    long_name: model time\n",
       "    standard_name: time\n",
       "    units: seconds since 2016-09-13 12:00\n",
       "    base_date: 2016-09-13 12:00                                                ! NCDATE\n",
       "unlimited dimensions: time\n",
       "current shape = (15115,)\n",
       "filling on, default _FillValue of 9.969209968386869e+36 used"
      ]
     },
     "execution_count": 23,
     "metadata": {},
     "output_type": "execute_result"
    }
   ],
   "source": [
    "f63 = netcdf.Dataset('../sims/Gonave_Surge_mangrove/coldstart/fort.63.nc', 'r')\n",
    "f63.variables['time']"
   ]
  }
 ],
 "metadata": {
  "kernelspec": {
   "display_name": "Kalpana-fresh",
   "language": "python",
   "name": "python3"
  },
  "language_info": {
   "codemirror_mode": {
    "name": "ipython",
    "version": 3
   },
   "file_extension": ".py",
   "mimetype": "text/x-python",
   "name": "python",
   "nbconvert_exporter": "python",
   "pygments_lexer": "ipython3",
   "version": "3.11.11"
  }
 },
 "nbformat": 4,
 "nbformat_minor": 5
}
