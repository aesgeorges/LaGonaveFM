{
 "cells": [
  {
   "cell_type": "code",
   "execution_count": 1,
   "id": "1a2a1125",
   "metadata": {},
   "outputs": [],
   "source": [
    "import sys\n",
    "sys.path.append('/mnt/Work/LaGonaveFM/') # or use path \n",
    "sys.path.append('/home/aesgeorges/LaGonaveFM/')\n",
    "from codebase.figures import *\n",
    "from codebase.tools import *\n",
    "from codebase.retreats import *\n",
    "\n",
    "import cmocean\n",
    "import numpy as np\n",
    "import netCDF4 as netcdf\n",
    "import matplotlib.pyplot as plt\n",
    "import matplotlib.colors as colors\n",
    "from tqdm import tqdm\n",
    "from kalpana.plotting import plot_nc\n",
    "from kalpana.export import fort14togdf\n",
    "from kalpana.ADCIRC_tools import extract_ts_from_nc\n",
    "import cartopy.crs as ccrs\n",
    "import cartopy.feature as cf\n",
    "import matplotlib as mpl\n",
    "import geopandas as gpd\n",
    "\n",
    "import pandas as pd\n",
    "import xarray as xr\n",
    "import rasterio as rio\n",
    "import rioxarray as rxr\n",
    "\n",
    "import fiona\n",
    "from shapely.geometry import shape\n",
    "\n",
    "import matplotlib as mpl\n",
    "mpl.rcParams.update({'font.size': 22})\n",
    "\n",
    "#from cmcrameri import cm as cmc"
   ]
  },
  {
   "cell_type": "code",
   "execution_count": 7,
   "id": "f07e0c90",
   "metadata": {},
   "outputs": [
    {
     "ename": "AttributeError",
     "evalue": "'Retreat' object has no attribute 'calculate_flood_area'",
     "output_type": "error",
     "traceback": [
      "\u001b[31m---------------------------------------------------------------------------\u001b[39m",
      "\u001b[31mAttributeError\u001b[39m                            Traceback (most recent call last)",
      "\u001b[36mCell\u001b[39m\u001b[36m \u001b[39m\u001b[32mIn[7]\u001b[39m\u001b[32m, line 5\u001b[39m\n\u001b[32m      3\u001b[39m cover = \u001b[33m'\u001b[39m\u001b[33m../datasets/mangrove_covers/refined/mangrove_polygon_retreat_light.shp\u001b[39m\u001b[33m'\u001b[39m\n\u001b[32m      4\u001b[39m r = Retreat(\u001b[33m'\u001b[39m\u001b[33m1\u001b[39m\u001b[33m'\u001b[39m, results_root, cover)\n\u001b[32m----> \u001b[39m\u001b[32m5\u001b[39m r.get_flood_statistics([\u001b[33m'\u001b[39m\u001b[33mssp2\u001b[39m\u001b[33m'\u001b[39m, \u001b[33m'\u001b[39m\u001b[33mssp5\u001b[39m\u001b[33m'\u001b[39m], [\u001b[32m2030\u001b[39m, \u001b[32m2100\u001b[39m])\n",
      "\u001b[36mFile \u001b[39m\u001b[32m~/LaGonaveFM/codebase/retreats.py:174\u001b[39m, in \u001b[36mRetreat.get_flood_statistics\u001b[39m\u001b[34m(self, scenarios, years)\u001b[39m\n\u001b[32m    172\u001b[39m \u001b[38;5;28;01mfor\u001b[39;00m scenario \u001b[38;5;129;01min\u001b[39;00m scenarios:\n\u001b[32m    173\u001b[39m     \u001b[38;5;28;01mfor\u001b[39;00m year \u001b[38;5;129;01min\u001b[39;00m years:\n\u001b[32m--> \u001b[39m\u001b[32m174\u001b[39m         area, pixels = \u001b[38;5;28mself\u001b[39m.calculate_flood_area(scenario, year)\n\u001b[32m    175\u001b[39m         results.append({\n\u001b[32m    176\u001b[39m             \u001b[33m'\u001b[39m\u001b[33mretreat_id\u001b[39m\u001b[33m'\u001b[39m: \u001b[38;5;28mself\u001b[39m.retreat_id,\n\u001b[32m    177\u001b[39m             \u001b[33m'\u001b[39m\u001b[33mscenario\u001b[39m\u001b[33m'\u001b[39m: scenario,\n\u001b[32m   (...)\u001b[39m\u001b[32m    180\u001b[39m             \u001b[33m'\u001b[39m\u001b[33marea_m2\u001b[39m\u001b[33m'\u001b[39m: area,\n\u001b[32m    181\u001b[39m         })\n\u001b[32m    183\u001b[39m \u001b[38;5;28;01mreturn\u001b[39;00m pd.DataFrame(results)\n",
      "\u001b[31mAttributeError\u001b[39m: 'Retreat' object has no attribute 'calculate_flood_area'"
     ]
    }
   ],
   "source": [
    "\n",
    "root = '../sims/'\n",
    "results_root = f'{root}Gonave_SLR_retreats/results/'\n",
    "cover = '../datasets/mangrove_covers/refined/mangrove_polygon_retreat_light.shp'\n",
    "r = Retreat('1', results_root, cover)\n",
    "r.get_flood_statistics(['ssp2', 'ssp5'], [2030, 2100])"
   ]
  }
 ],
 "metadata": {
  "kernelspec": {
   "display_name": "Kalpana",
   "language": "python",
   "name": "python3"
  },
  "language_info": {
   "codemirror_mode": {
    "name": "ipython",
    "version": 3
   },
   "file_extension": ".py",
   "mimetype": "text/x-python",
   "name": "python",
   "nbconvert_exporter": "python",
   "pygments_lexer": "ipython3",
   "version": "3.11.11"
  }
 },
 "nbformat": 4,
 "nbformat_minor": 5
}
