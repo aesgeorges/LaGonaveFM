{
 "cells": [
  {
   "cell_type": "code",
   "execution_count": 1,
   "id": "7bb05ea6",
   "metadata": {},
   "outputs": [],
   "source": [
    "import os\n",
    "import glob\n",
    "import shutil\n",
    "from pathlib import Path\n",
    "from kalpana.downscaling import runStatic"
   ]
  },
  {
   "cell_type": "code",
   "execution_count": 2,
   "id": "deefb9a7",
   "metadata": {},
   "outputs": [],
   "source": [
    "super_shift = '../staging/runs/Matthew2016_v2_test/hotstart/'\n",
    "root_swan = super_shift"
   ]
  },
  {
   "cell_type": "code",
   "execution_count": 3,
   "id": "1f0910d2",
   "metadata": {},
   "outputs": [],
   "source": [
    "cwd = Path(os.getcwd())\n",
    "fort14 = root_swan+'fort.14' ## path of the fort.14 file\n",
    "epsgIn = 4326 ## CRS for lat/lon\n",
    "epsgOut = 4326 ## CRS of downscaling DEM\n",
    "pathOut = 'exports/downscale_mangrove.shp' ## full path of the output shapefile \n",
    "grassVer = 8.3 ## version of grass 8.2 and 8.3 works\n",
    "pathRasFiles = '../datasets/rasters'\n",
    "rasterFiles = 'GrandPierre_fix.tif'\n",
    "## in this case we will use the same downscaling raster bounding box as the subdomain. \n",
    "subDomain = os.path.join(pathRasFiles, rasterFiles)\n",
    "nameGrassLocation=None\n",
    "createGrassLocation=True\n",
    "createLocMethod='from_raster'"
   ]
  },
  {
   "cell_type": "code",
   "execution_count": 18,
   "id": "47820487",
   "metadata": {},
   "outputs": [],
   "source": [
    "cwd = Path(os.getcwd())\n",
    "## full path of the maxele file\n",
    "ncFile = root_swan+'maxele.63.nc'\n",
    "## contour levels to use in the downscaling\n",
    "## from 0 to 11 (included) every 1\n",
    "levels = [0, 6, 0.5]\n",
    "## output CRS\n",
    "epsgOut = 4326\n",
    "## full path for the shape file with the maxele contours\n",
    "## same path is used for saving rasters and the grass location.\n",
    "## Path can't be relative\n",
    "pathOut = 'exports/maxele_matthew.shp'\n",
    "## version of grass 8.2 and 8.3 works\n",
    "grassVer = 8.3\n",
    "## path of the downscaling rasters\n",
    "pathRasFiles = '../datasets/rasters'\n",
    "rasterFiles = 'GrandPierre_fix.tif'\n",
    "## full path of the raster with the mesh element size\n",
    "meshFile = r'GrandPierre_fix.tif'\n",
    "## crs of adcirc output (default value)\n",
    "epsgIn = 4326\n",
    "## vertical unit of the maxele\n",
    "vUnitIn = 'm'\n",
    "## vertical unit of the downscaled water levels\n",
    "vUnitOut = 'm'\n",
    "## name of the maxele variable to downscale. Always 'zeta_max' for downscaling\n",
    "var = 'zeta_max'\n",
    "## contours type. Always 'polygon' for downscaling\n",
    "conType = 'polygon'\n",
    "## full path of file (kml, kmz, shp, gpkg or tif) to crop the domain.\n",
    "## in this case we will use the same downscaling raster bounding box as the subdomain\n",
    "subDomain = os.path.join(pathRasFiles, rasterFiles)\n",
    "## epsg code or crs of the subDomain. In this case, as we are using the downscaling dem bounding box\n",
    "## as the subdomain, the same epsg code must be specified.\n",
    "epsgSubDom = 4326\n",
    "## boolean for exporting the mesh as a shape file from maxele, not necessary in this\n",
    "## case since mesh was exported as preprocess. In example_03 it is exported.\n",
    "exportMesh = True ### changed from previous example\n",
    "## full path of pickle file with vertical datum differences for all mesh nodes\n",
    "## proprocess step\n",
    "#dzFile = r'../../adds/dzDatumsNOAA/dzDaums_noaaTideGauges_msl_navd88.csv'\n",
    "## threshold to do apply the vertical datum difference\n",
    "zeroDif = -20\n",
    "##threshold to define the percentage of the dz given by the spatial interpolation to be applied.\n",
    "maxDif = -5\n",
    "## only tide stations closed than this  threshold are used to interpolate the vertical datum difference\n",
    "distThreshold = 0.5\n",
    "## number of points to query for the inverse distance-weighted interpolation\n",
    "k = 7\n",
    "## full path of the grass location if a existing location will be used\n",
    "## if None a new location called 'grassLoc' is created. A new location is created in\n",
    "## example_03. Path can't be relative.\n",
    "nameGrassLocation = None ### changed from previous example\n",
    "## Boolean for creating grass location, in this example it was created as a preprocess\n",
    "## step. In example_03 it is created.\n",
    "createGrassLocation = True ### changed from previous example\n",
    "## Method for assigning the crs to the grass location. Default and faster option\n",
    "createLocMethod = 'from_raster'\n",
    "## variable to downscale, can be 'zMax', 'zMean' and 'zMin'. With 'zMean', the mean value\n",
    "## of each contour is used.\n",
    "attrCol = 'zMean'\n",
    "## how many times the representative length the results are grown in the downscaling\n",
    "repLenGrowing = 1.0 \n",
    "## remove wet cells with water level below the ground surface\n",
    "compAdcirc2dem = True\n",
    "## transform the water level to water depth\n",
    "floodDepth = False\n",
    "## export downscaled results as shape files. Slows down the process a couple of minutes\n",
    "ras2vec = False\n",
    "## boolean for exporing raw maxele as a DEM. Useful for debugging\n",
    "exportOrg = False\n",
    "## full path of the shapefile with levees\n",
    "leveesFile = None\n",
    "## boolean for reprojecting the downscaled dem back to lat/lon\n",
    "finalOutToLatLon = False"
   ]
  },
  {
   "cell_type": "code",
   "execution_count": 16,
   "id": "1aaa897d",
   "metadata": {},
   "outputs": [
    {
     "name": "stdout",
     "output_type": "stream",
     "text": [
      "exports/grassLoc/PERMANENT\n"
     ]
    },
    {
     "data": {
      "text/plain": [
       "0"
      ]
     },
     "execution_count": 16,
     "metadata": {},
     "output_type": "execute_result"
    }
   ],
   "source": [
    "import os\n",
    "os.system('grass --config path')\n",
    "os.system('export GRASSBIN=grass78')"
   ]
  },
  {
   "cell_type": "code",
   "execution_count": 19,
   "id": "08c6a3b8",
   "metadata": {},
   "outputs": [
    {
     "name": "stderr",
     "output_type": "stream",
     "text": [
      "\u001b[32m2025-04-21 12:41:18.696\u001b[0m | \u001b[1mINFO    \u001b[0m | \u001b[36mkalpana.export\u001b[0m:\u001b[36mnc2shp\u001b[0m:\u001b[36m817\u001b[0m - \u001b[1mStart exporting adcirc to shape\u001b[0m\n",
      "\u001b[32m2025-04-21 12:41:18.750\u001b[0m | \u001b[1mINFO    \u001b[0m | \u001b[36mkalpana.export\u001b[0m:\u001b[36mfilledContours2gpd\u001b[0m:\u001b[36m311\u001b[0m - \u001b[1mBegin computing contours using Dask\u001b[0m\n",
      "\u001b[32m2025-04-21 12:41:18.858\u001b[0m | \u001b[1mINFO    \u001b[0m | \u001b[36mkalpana.export\u001b[0m:\u001b[36mfilledContours2gpd\u001b[0m:\u001b[36m313\u001b[0m - \u001b[1mFinnished computing contours using Dask\u001b[0m\n",
      "\u001b[32m2025-04-21 12:41:18.861\u001b[0m | \u001b[1mINFO    \u001b[0m | \u001b[36mkalpana.export\u001b[0m:\u001b[36mnc2shp\u001b[0m:\u001b[36m847\u001b[0m - \u001b[1m    Ready with the contours extraction: 0.003 min\u001b[0m\n",
      "\u001b[32m2025-04-21 12:41:18.896\u001b[0m | \u001b[1mINFO    \u001b[0m | \u001b[36mkalpana.export\u001b[0m:\u001b[36mnc2shp\u001b[0m:\u001b[36m855\u001b[0m - \u001b[1m    Cliping contours based on mask: 0.001 min\u001b[0m\n",
      "\u001b[32m2025-04-21 12:41:18.897\u001b[0m | \u001b[1mINFO    \u001b[0m | \u001b[36mkalpana.export\u001b[0m:\u001b[36mnc2shp\u001b[0m:\u001b[36m873\u001b[0m - \u001b[1m    Changing CRS: 0.000 min\u001b[0m\n",
      "\u001b[32m2025-04-21 12:41:18.969\u001b[0m | \u001b[1mINFO    \u001b[0m | \u001b[36mkalpana.export\u001b[0m:\u001b[36mnc2shp\u001b[0m:\u001b[36m884\u001b[0m - \u001b[1m    Saving file: 0.001 min\u001b[0m\n",
      "\u001b[32m2025-04-21 12:41:18.969\u001b[0m | \u001b[1mINFO    \u001b[0m | \u001b[36mkalpana.export\u001b[0m:\u001b[36mnc2shp\u001b[0m:\u001b[36m888\u001b[0m - \u001b[1m    Exporting mesh\u001b[0m\n",
      "\u001b[32m2025-04-21 12:41:20.392\u001b[0m | \u001b[1mINFO    \u001b[0m | \u001b[36mkalpana.export\u001b[0m:\u001b[36mnc2shp\u001b[0m:\u001b[36m896\u001b[0m - \u001b[1m    Mesh exported: 0.024 min\u001b[0m\n",
      "\u001b[32m2025-04-21 12:41:20.392\u001b[0m | \u001b[1mINFO    \u001b[0m | \u001b[36mkalpana.export\u001b[0m:\u001b[36mnc2shp\u001b[0m:\u001b[36m897\u001b[0m - \u001b[1mReady with exporting code after: 0.028 min\u001b[0m\n",
      "\u001b[32m2025-04-21 12:41:20.392\u001b[0m | \u001b[1mINFO    \u001b[0m | \u001b[36mkalpana.downscaling\u001b[0m:\u001b[36mrunStatic\u001b[0m:\u001b[36m801\u001b[0m - \u001b[1mStatic downscaling started\u001b[0m\n",
      "Parameter <python_path> not supported\n",
      "\u001b[32m2025-04-21 12:41:20.428\u001b[0m | \u001b[1mINFO    \u001b[0m | \u001b[36mkalpana.downscaling\u001b[0m:\u001b[36mrunStatic\u001b[0m:\u001b[36m815\u001b[0m - \u001b[1m    Start Setup grass environment\u001b[0m\n",
      "\u001b[32m2025-04-21 12:41:20.428\u001b[0m | \u001b[1mINFO    \u001b[0m | \u001b[36mkalpana.downscaling\u001b[0m:\u001b[36msetGrassEnv\u001b[0m:\u001b[36m337\u001b[0m - \u001b[1m        rasters to list:  0.000 min\u001b[0m\n",
      "\u001b[32m2025-04-21 12:41:20.603\u001b[0m | \u001b[1mINFO    \u001b[0m | \u001b[36mkalpana.downscaling\u001b[0m:\u001b[36mcreateGrassLoc\u001b[0m:\u001b[36m138\u001b[0m - \u001b[1mERROR: b'Starting GRASS GIS...\\nCreating new GRASS GIS location <grassLoc>...\\nTraceback (most recent call last):\\n  File \"/usr/bin/grass\", line 2350, in <module>\\n    main()\\n  File \"/usr/bin/grass\", line 2267, in main\\n    lock_mapset(mapset_settings.full_mapset, user=user,\\n  File \"/usr/bin/grass\", line 1422, in lock_mapset\\n    ret = call([gpath(\"etc\", \"lock\"), lockfile, \"%d\" % os.getpid()])\\n  File \"/usr/bin/grass\", line 233, in call\\n    return subprocess.call(cmd, **kwargs)\\n  File \"/usr/lib/python3.10/subprocess.py\", line 345, in call\\n    with Popen(*popenargs, **kwargs) as p:\\n  File \"/usr/lib/python3.10/subprocess.py\", line 971, in __init__\\n    self._execute_child(args, executable, preexec_fn, close_fds,\\n  File \"/usr/lib/python3.10/subprocess.py\", line 1863, in _execute_child\\n    raise child_exception_type(errno_num, err_msg, err_filename)\\nFileNotFoundError: [Errno 2] No such file or directory: \\'exports/grassLoc/PERMANENT/etc/lock\\'\\n'\u001b[0m\n",
      "\u001b[32m2025-04-21 12:41:20.604\u001b[0m | \u001b[1mINFO    \u001b[0m | \u001b[36mkalpana.downscaling\u001b[0m:\u001b[36mcreateGrassLoc\u001b[0m:\u001b[36m139\u001b[0m - \u001b[1m\"ERROR: Cannot create location grass -c ../datasets/rasters/GrandPierre_fix.tif -e exports/grassLoc\u001b[0m\n"
     ]
    },
    {
     "ename": "SystemExit",
     "evalue": "-1",
     "output_type": "error",
     "traceback": [
      "An exception has occurred, use %tb to see the full traceback.\n",
      "\u001b[31mSystemExit\u001b[39m\u001b[31m:\u001b[39m -1\n"
     ]
    }
   ],
   "source": [
    "runStatic(ncFile, levels, '4326', pathOut, grassVer, pathRasFiles, rasterFiles, meshFile, epsgIn=epsgIn, \n",
    "            vUnitIn=vUnitIn, vUnitOut=vUnitOut, var=var, conType =conType, subDomain=subDomain, epsgSubDom=epsgSubDom, \n",
    "            exportMesh= exportMesh, zeroDif=zeroDif, maxDif=maxDif, distThreshold=distThreshold, k=k, \n",
    "            nameGrassLocation=nameGrassLocation, createGrassLocation=createGrassLocation, createLocMethod=createLocMethod, \n",
    "            attrCol=attrCol, repLenGrowing=repLenGrowing, compAdcirc2dem=compAdcirc2dem, floodDepth=floodDepth, \n",
    "            ras2vec=ras2vec, exportOrg=exportOrg, leveesFile = leveesFile, finalOutToLatLon=finalOutToLatLon)\n",
    "%tb"
   ]
  },
  {
   "cell_type": "code",
   "execution_count": 14,
   "id": "d5a2238f",
   "metadata": {},
   "outputs": [
    {
     "ename": "SystemExit",
     "evalue": "-1",
     "output_type": "error",
     "traceback": [
      "\u001b[31m---------------------------------------------------------------------------\u001b[39m",
      "\u001b[31mSystemExit\u001b[39m                                Traceback (most recent call last)",
      "\u001b[36mCell\u001b[39m\u001b[36m \u001b[39m\u001b[32mIn[13]\u001b[39m\u001b[32m, line 1\u001b[39m\n\u001b[32m----> \u001b[39m\u001b[32m1\u001b[39m \u001b[43mrunStatic\u001b[49m\u001b[43m(\u001b[49m\u001b[43mncFile\u001b[49m\u001b[43m,\u001b[49m\u001b[43m \u001b[49m\u001b[43mlevels\u001b[49m\u001b[43m,\u001b[49m\u001b[43m \u001b[49m\u001b[33;43m'\u001b[39;49m\u001b[33;43m4326\u001b[39;49m\u001b[33;43m'\u001b[39;49m\u001b[43m,\u001b[49m\u001b[43m \u001b[49m\u001b[43mpathOut\u001b[49m\u001b[43m,\u001b[49m\u001b[43m \u001b[49m\u001b[43mgrassVer\u001b[49m\u001b[43m,\u001b[49m\u001b[43m \u001b[49m\u001b[43mpathRasFiles\u001b[49m\u001b[43m,\u001b[49m\u001b[43m \u001b[49m\u001b[43mrasterFiles\u001b[49m\u001b[43m,\u001b[49m\u001b[43m \u001b[49m\u001b[43mmeshFile\u001b[49m\u001b[43m,\u001b[49m\u001b[43m \u001b[49m\u001b[43mepsgIn\u001b[49m\u001b[43m=\u001b[49m\u001b[43mepsgIn\u001b[49m\u001b[43m,\u001b[49m\u001b[43m \u001b[49m\n\u001b[32m      2\u001b[39m \u001b[43m            \u001b[49m\u001b[43mvUnitIn\u001b[49m\u001b[43m=\u001b[49m\u001b[43mvUnitIn\u001b[49m\u001b[43m,\u001b[49m\u001b[43m \u001b[49m\u001b[43mvUnitOut\u001b[49m\u001b[43m=\u001b[49m\u001b[43mvUnitOut\u001b[49m\u001b[43m,\u001b[49m\u001b[43m \u001b[49m\u001b[43mvar\u001b[49m\u001b[43m=\u001b[49m\u001b[43mvar\u001b[49m\u001b[43m,\u001b[49m\u001b[43m \u001b[49m\u001b[43mconType\u001b[49m\u001b[43m \u001b[49m\u001b[43m=\u001b[49m\u001b[43mconType\u001b[49m\u001b[43m,\u001b[49m\u001b[43m \u001b[49m\u001b[43msubDomain\u001b[49m\u001b[43m=\u001b[49m\u001b[43msubDomain\u001b[49m\u001b[43m,\u001b[49m\u001b[43m \u001b[49m\u001b[43mepsgSubDom\u001b[49m\u001b[43m=\u001b[49m\u001b[43mepsgSubDom\u001b[49m\u001b[43m,\u001b[49m\u001b[43m \u001b[49m\n\u001b[32m      3\u001b[39m \u001b[43m            \u001b[49m\u001b[43mexportMesh\u001b[49m\u001b[43m=\u001b[49m\u001b[43m \u001b[49m\u001b[43mexportMesh\u001b[49m\u001b[43m,\u001b[49m\u001b[43m \u001b[49m\u001b[43mzeroDif\u001b[49m\u001b[43m=\u001b[49m\u001b[43mzeroDif\u001b[49m\u001b[43m,\u001b[49m\u001b[43m \u001b[49m\u001b[43mmaxDif\u001b[49m\u001b[43m=\u001b[49m\u001b[43mmaxDif\u001b[49m\u001b[43m,\u001b[49m\u001b[43m \u001b[49m\u001b[43mdistThreshold\u001b[49m\u001b[43m=\u001b[49m\u001b[43mdistThreshold\u001b[49m\u001b[43m,\u001b[49m\u001b[43m \u001b[49m\u001b[43mk\u001b[49m\u001b[43m=\u001b[49m\u001b[43mk\u001b[49m\u001b[43m,\u001b[49m\u001b[43m \u001b[49m\n\u001b[32m      4\u001b[39m \u001b[43m            \u001b[49m\u001b[43mnameGrassLocation\u001b[49m\u001b[43m=\u001b[49m\u001b[43mnameGrassLocation\u001b[49m\u001b[43m,\u001b[49m\u001b[43m \u001b[49m\u001b[43mcreateGrassLocation\u001b[49m\u001b[43m=\u001b[49m\u001b[43mcreateGrassLocation\u001b[49m\u001b[43m,\u001b[49m\u001b[43m \u001b[49m\u001b[43mcreateLocMethod\u001b[49m\u001b[43m=\u001b[49m\u001b[43mcreateLocMethod\u001b[49m\u001b[43m,\u001b[49m\u001b[43m \u001b[49m\n\u001b[32m      5\u001b[39m \u001b[43m            \u001b[49m\u001b[43mattrCol\u001b[49m\u001b[43m=\u001b[49m\u001b[43mattrCol\u001b[49m\u001b[43m,\u001b[49m\u001b[43m \u001b[49m\u001b[43mrepLenGrowing\u001b[49m\u001b[43m=\u001b[49m\u001b[43mrepLenGrowing\u001b[49m\u001b[43m,\u001b[49m\u001b[43m \u001b[49m\u001b[43mcompAdcirc2dem\u001b[49m\u001b[43m=\u001b[49m\u001b[43mcompAdcirc2dem\u001b[49m\u001b[43m,\u001b[49m\u001b[43m \u001b[49m\u001b[43mfloodDepth\u001b[49m\u001b[43m=\u001b[49m\u001b[43mfloodDepth\u001b[49m\u001b[43m,\u001b[49m\u001b[43m \u001b[49m\n\u001b[32m      6\u001b[39m \u001b[43m            \u001b[49m\u001b[43mras2vec\u001b[49m\u001b[43m=\u001b[49m\u001b[43mras2vec\u001b[49m\u001b[43m,\u001b[49m\u001b[43m \u001b[49m\u001b[43mexportOrg\u001b[49m\u001b[43m=\u001b[49m\u001b[43mexportOrg\u001b[49m\u001b[43m,\u001b[49m\u001b[43m \u001b[49m\u001b[43mleveesFile\u001b[49m\u001b[43m \u001b[49m\u001b[43m=\u001b[49m\u001b[43m \u001b[49m\u001b[43mleveesFile\u001b[49m\u001b[43m,\u001b[49m\u001b[43m \u001b[49m\u001b[43mfinalOutToLatLon\u001b[49m\u001b[43m=\u001b[49m\u001b[43mfinalOutToLatLon\u001b[49m\u001b[43m)\u001b[49m\n\u001b[32m      7\u001b[39m get_ipython().run_line_magic(\u001b[33m'\u001b[39m\u001b[33mtb\u001b[39m\u001b[33m'\u001b[39m, \u001b[33m'\u001b[39m\u001b[33m'\u001b[39m)\n",
      "\u001b[36mFile \u001b[39m\u001b[32m~/Kalpana/kalpana/downscaling.py:821\u001b[39m, in \u001b[36mrunStatic\u001b[39m\u001b[34m(ncFile, levels, epsgOut, pathOut, grassVer, pathRasFiles, rasterFiles, meshFile, epsgIn, vUnitIn, vUnitOut, var, conType, subDomain, epsgSubDom, exportMesh, dzFile, zeroDif, maxDif, distThreshold, k, nameGrassLocation, createGrassLocation, createLocMethod, attrCol, repLenGrowing, compAdcirc2dem, floodDepth, ras2vec, exportOrg, leveesFile, finalOutToLatLon)\u001b[39m\n\u001b[32m    819\u001b[39m     rasterFiles = os.listdir(pathRasFiles)\n\u001b[32m    820\u001b[39m \u001b[38;5;66;03m## setup grass env\u001b[39;00m\n\u001b[32m--> \u001b[39m\u001b[32m821\u001b[39m \u001b[43msetGrassEnv\u001b[49m\u001b[43m(\u001b[49m\u001b[43mgrassVer\u001b[49m\u001b[43m,\u001b[49m\u001b[43m \u001b[49m\u001b[43mpathGrassLocation\u001b[49m\u001b[43m,\u001b[49m\u001b[43m \u001b[49m\u001b[43mcreateGrassLocation\u001b[49m\u001b[43m,\u001b[49m\u001b[43m \u001b[49m\u001b[43mgs\u001b[49m\u001b[43m,\u001b[49m\u001b[43m \u001b[49m\u001b[43mgsetup\u001b[49m\u001b[43m,\u001b[49m\n\u001b[32m    822\u001b[39m \u001b[43m                                \u001b[49m\u001b[43mpathRasFiles\u001b[49m\u001b[43m,\u001b[49m\u001b[43m \u001b[49m\u001b[43mrasterFiles\u001b[49m\u001b[43m,\u001b[49m\u001b[43m \u001b[49m\u001b[43mcreateLocMethod\u001b[49m\u001b[43m,\u001b[49m\u001b[43m \u001b[49m\u001b[43mepsgOut\u001b[49m\u001b[43m)\u001b[49m\n\u001b[32m    824\u001b[39m t2 = time.time()\n\u001b[32m    825\u001b[39m logger.info(\u001b[33mf\u001b[39m\u001b[33m'\u001b[39m\u001b[33m    Setup grass environment: \u001b[39m\u001b[38;5;132;01m{\u001b[39;00m(t2\u001b[38;5;250m \u001b[39m-\u001b[38;5;250m \u001b[39mt11)/\u001b[32m60\u001b[39m\u001b[38;5;132;01m:\u001b[39;00m\u001b[33m0.2f\u001b[39m\u001b[38;5;132;01m}\u001b[39;00m\u001b[33m min\u001b[39m\u001b[33m'\u001b[39m) \u001b[38;5;66;03m# Changed\u001b[39;00m\n",
      "\u001b[36mFile \u001b[39m\u001b[32m~/Kalpana/kalpana/downscaling.py:340\u001b[39m, in \u001b[36msetGrassEnv\u001b[39m\u001b[34m(grassVer, pathGrassLocation, createGrassLocation, pkg0, pkg1, pathRasFiles, rasterFiles, createLocMethod, myepsg)\u001b[39m\n\u001b[32m    338\u001b[39m \u001b[38;5;28;01mif\u001b[39;00m os.path.exists(rasFiles[\u001b[32m0\u001b[39m]):\n\u001b[32m    339\u001b[39m     ta = time.time()\n\u001b[32m--> \u001b[39m\u001b[32m340\u001b[39m     \u001b[43mcreateGrassLoc\u001b[49m\u001b[43m(\u001b[49m\u001b[43mgrassVer\u001b[49m\u001b[43m,\u001b[49m\u001b[43m \u001b[49m\u001b[43mpathGrassLocation\u001b[49m\u001b[43m,\u001b[49m\u001b[43m \u001b[49m\u001b[43mcreateLocMethod\u001b[49m\u001b[43m,\u001b[49m\u001b[43m \u001b[49m\u001b[43mmyepsg\u001b[49m\u001b[43m,\u001b[49m\u001b[43m \u001b[49m\u001b[43mrasFiles\u001b[49m\u001b[43m[\u001b[49m\u001b[32;43m0\u001b[39;49m\u001b[43m]\u001b[49m\u001b[43m)\u001b[49m\n\u001b[32m    341\u001b[39m     logger.info(\u001b[33mf\u001b[39m\u001b[33m'\u001b[39m\u001b[33m        create location: \u001b[39m\u001b[38;5;132;01m{\u001b[39;00m(time.time()\u001b[38;5;250m \u001b[39m-\u001b[38;5;250m \u001b[39mta)/\u001b[32m60\u001b[39m\u001b[38;5;132;01m:\u001b[39;00m\u001b[33m 0.3f\u001b[39m\u001b[38;5;132;01m}\u001b[39;00m\u001b[33m min\u001b[39m\u001b[33m'\u001b[39m) \u001b[38;5;66;03m# Changed\u001b[39;00m\n\u001b[32m    342\u001b[39m \u001b[38;5;28;01melse\u001b[39;00m:\n",
      "\u001b[36mFile \u001b[39m\u001b[32m~/Kalpana/kalpana/downscaling.py:140\u001b[39m, in \u001b[36mcreateGrassLoc\u001b[39m\u001b[34m(grassVer, locPath, createLocMethod, myepsg, rasFile)\u001b[39m\n\u001b[32m    138\u001b[39m logger.info(\u001b[33mf\u001b[39m\u001b[33m'\u001b[39m\u001b[33mERROR: \u001b[39m\u001b[38;5;132;01m{\u001b[39;00merr\u001b[38;5;132;01m}\u001b[39;00m\u001b[33m'\u001b[39m, file = sys.stderr) \u001b[38;5;66;03m# Changed\u001b[39;00m\n\u001b[32m    139\u001b[39m logger.info(\u001b[33mf\u001b[39m\u001b[33m'\u001b[39m\u001b[33m\"\u001b[39m\u001b[33mERROR: Cannot create location \u001b[39m\u001b[38;5;132;01m{\u001b[39;00mstartCmd\u001b[38;5;132;01m}\u001b[39;00m\u001b[33m'\u001b[39m, file = sys.stderr) \u001b[38;5;66;03m# Changed\u001b[39;00m\n\u001b[32m--> \u001b[39m\u001b[32m140\u001b[39m \u001b[43msys\u001b[49m\u001b[43m.\u001b[49m\u001b[43mexit\u001b[49m\u001b[43m(\u001b[49m\u001b[43m-\u001b[49m\u001b[32;43m1\u001b[39;49m\u001b[43m)\u001b[49m\n",
      "\u001b[31mSystemExit\u001b[39m: -1"
     ]
    }
   ],
   "source": [
    "%tb"
   ]
  }
 ],
 "metadata": {
  "kernelspec": {
   "display_name": "Kalpana-fresh",
   "language": "python",
   "name": "python3"
  },
  "language_info": {
   "codemirror_mode": {
    "name": "ipython",
    "version": 3
   },
   "file_extension": ".py",
   "mimetype": "text/x-python",
   "name": "python",
   "nbconvert_exporter": "python",
   "pygments_lexer": "ipython3",
   "version": "3.11.11"
  }
 },
 "nbformat": 4,
 "nbformat_minor": 5
}
