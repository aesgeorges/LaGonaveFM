{
 "cells": [
  {
   "cell_type": "code",
   "execution_count": 7,
   "metadata": {},
   "outputs": [],
   "source": [
    "from datetime import datetime, timedelta\n",
    "from pathlib import Path\n",
    "\n",
    "from adcircpy import AdcircMesh, AdcircRun, Tides\n",
    "from adcircpy.forcing.winds import BestTrackForcing\n",
    "from adcircpy.utilities import download_mesh\n",
    "\n",
    "import numpy as np\n",
    "\n",
    "stage = 'basemodel'\n",
    "HURRICANE = 'Matthew2016'\n",
    "OUTPUT_DIRECTORY = stage+'/runs/'+HURRICANE"
   ]
  },
  {
   "cell_type": "code",
   "execution_count": 8,
   "metadata": {},
   "outputs": [
    {
     "name": "stderr",
     "output_type": "stream",
     "text": [
      "/global/home/users/alexandregeorges/.local/lib/python3.11/site-packages/adcircpy/mesh/parsers/grd.py:22: FutureWarning: The 'delim_whitespace' keyword in pd.read_csv is deprecated and will be removed in a future version. Use ``sep='\\s+'`` instead\n",
      "  output['nodes'] = pandas.read_csv(\n",
      "/global/home/users/alexandregeorges/.local/lib/python3.11/site-packages/adcircpy/mesh/parsers/grd.py:37: FutureWarning: The 'delim_whitespace' keyword in pd.read_csv is deprecated and will be removed in a future version. Use ``sep='\\s+'`` instead\n",
      "  output['elements'] = pandas.read_csv(\n"
     ]
    }
   ],
   "source": [
    "# open mesh file\n",
    "mesh = AdcircMesh.open('datasets/nc_inundation_v6c.grd', crs=4326)    \n",
    "\n",
    "# Adding Manning's\n",
    "# generate tau0 factor\n",
    "mesh.generate_tau0()\n",
    "\n",
    "# also add Manning's N to the domain (constant for this example)\n",
    "mesh.mannings_n_at_sea_floor = np.full(mesh.values.shape, 0.025)\n",
    "\n",
    "# initialize tidal forcing and constituents\n",
    "tidal_forcing = Tides()\n",
    "tidal_forcing.use_all()\n",
    "mesh.add_forcing(tidal_forcing)"
   ]
  },
  {
   "cell_type": "code",
   "execution_count": 9,
   "metadata": {},
   "outputs": [],
   "source": [
    "# set simulation dates\n",
    "spinup_time = timedelta(days=15)                                                                        \n",
    "duration = timedelta(days=10)\n",
    "start_date = datetime(2016, 9, 28, 18)\n",
    "end_date = start_date + duration"
   ]
  },
  {
   "cell_type": "code",
   "execution_count": 10,
   "metadata": {},
   "outputs": [],
   "source": [
    "# instantiate driver object\n",
    "driver = AdcircRun(mesh, start_date, end_date, spinup_time)                                                                                                                                                     # write driver state to disk\n",
    "driver.write(OUTPUT_DIRECTORY, overwrite=True)"
   ]
  },
  {
   "cell_type": "code",
   "execution_count": 11,
   "metadata": {},
   "outputs": [
    {
     "name": "stdout",
     "output_type": "stream",
     "text": [
      "Bash script created and outputted at basemodel/runs/Matthew2016\n"
     ]
    }
   ],
   "source": [
    "bash_script = rf\"\"\"\n",
    "#!/bin/bash\n",
    "\n",
    "# Rename and modify fort.15 for netcdf output and wind run\n",
    "mv fort.15.coldstart fort.15\n",
    "\n",
    "replacement_ele=\"-3 0.000000 15.000000 20                              ! NOUTGE\"\n",
    "replacement_vel=\"-3 0.000000 15.000000 20                              ! NOUTGV\"\n",
    "\n",
    "sed -i \"s/0 0.000000 0.000000 0                                           ! NOUTGE/$replacement_ele/\" fort.15\n",
    "sed -i \"s/0 0.000000 0.000000 0                                           ! NOUTGV/$replacement_vel/\" fort.15\n",
    "\n",
    "\n",
    "current_dir=$(pwd)\n",
    "folder_name=$(basename $current_dir)\n",
    "\n",
    "mkdir ../../logs\n",
    "mkdir ../../logs/$folder_name\n",
    "log_header=\"Logs of run attempts and their parameters.\"\n",
    "log_header2=\"Hurricane {HURRICANE}\"\n",
    "log_header3=\"------------------------------------------\"\n",
    "log_header4=\"id\\t\\t\\t\\t\\t\\tdt\\t\\t\\t\\t\\t\\ttype\\t\\t\\t\\t\\t\\tcomment\"\n",
    "echo -e $log_header > runlog.out\n",
    "echo -e $log_header2 >> runlog.out\n",
    "echo -e $log_header3 >> runlog.out\n",
    "echo -e $log_header4 >> runlog.out\n",
    "\n",
    "cp ../../../scripts/run.sh run.sh\n",
    "cp ../../../scripts/slurmcold.sh slurmcold.sh\n",
    "cp ../../../scripts/slurmhot.sh slurmhot.sh\n",
    "\n",
    "current_dir=$(pwd)\n",
    "folder_name=$(basename $current_dir)\n",
    "sed -i \"s/^#SBATCH --job-name=.*$/#SBATCH --job-name=$folder_name base/\" slurmcold.sh\n",
    "sed -i \"s/^#SBATCH --job-name=.*$/#SBATCH --job-name=$folder_name base hot/\" slurmhot.sh\n",
    "\n",
    "chmod +x run.sh slurmcold.sh slurmhot.sh\n",
    "\"\"\"\n",
    "\n",
    "# Write the bash script to the output directory\n",
    "with open(OUTPUT_DIRECTORY + '/init.sh', 'w') as file:\n",
    "    file.write(bash_script)\n",
    "\n",
    "print(\"Bash script created and outputted at\", OUTPUT_DIRECTORY)"
   ]
  }
 ],
 "metadata": {
  "kernelspec": {
   "display_name": "hydrogp",
   "language": "python",
   "name": "hydrogp"
  },
  "language_info": {
   "codemirror_mode": {
    "name": "ipython",
    "version": 3
   },
   "file_extension": ".py",
   "mimetype": "text/x-python",
   "name": "python",
   "nbconvert_exporter": "python",
   "pygments_lexer": "ipython3",
   "version": "3.11.7"
  }
 },
 "nbformat": 4,
 "nbformat_minor": 2
}
