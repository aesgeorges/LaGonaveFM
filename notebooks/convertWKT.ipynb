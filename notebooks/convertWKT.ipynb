{
 "cells": [
  {
   "cell_type": "code",
   "execution_count": 6,
   "id": "e1eff6be",
   "metadata": {},
   "outputs": [],
   "source": [
    "import pandas as pd\n",
    "import re"
   ]
  },
  {
   "cell_type": "code",
   "execution_count": 7,
   "id": "0abd02b8",
   "metadata": {},
   "outputs": [],
   "source": [
    "def extract_coordinates_from_wkt(wkt_string):\n",
    "    \"\"\"\n",
    "    Extract coordinate pairs from WKT MULTIPOLYGON string\n",
    "    \"\"\"\n",
    "    # Remove MULTIPOLYGON wrapper and extra parentheses\n",
    "    coords_text = wkt_string.replace('MULTIPOLYGON', '').strip()\n",
    "    \n",
    "    # Find all coordinate pairs using regex\n",
    "    # Matches patterns like: -72.7473930008844 19.4452550925986\n",
    "    coord_pattern = r'(-?\\d+\\.?\\d*)\\s+(-?\\d+\\.?\\d*)'\n",
    "    matches = re.findall(coord_pattern, coords_text)\n",
    "    \n",
    "    # Convert to list of [lon, lat] pairs\n",
    "    coordinates = []\n",
    "    for lon, lat in matches:\n",
    "        coordinates.append([float(lon), float(lat)])\n",
    "    \n",
    "    return coordinates\n",
    "\n",
    "def convert_wkt_csv_to_lonlat(input_file, output_file):\n",
    "    \"\"\"\n",
    "    Read WKT CSV and convert to lon,lat format\n",
    "    \"\"\"\n",
    "    # Read the CSV file\n",
    "    df = pd.read_csv(input_file)\n",
    "    \n",
    "    all_coords = []\n",
    "    \n",
    "    # Process each WKT geometry\n",
    "    for idx, row in df.iterrows():\n",
    "        wkt_geom = row['WKT']\n",
    "        coords = extract_coordinates_from_wkt(wkt_geom)\n",
    "        all_coords.extend(coords)\n",
    "    \n",
    "    # Create new DataFrame with lon,lat format\n",
    "    coord_df = pd.DataFrame(all_coords, columns=['lon', 'lat'])\n",
    "    \n",
    "    # Save to CSV\n",
    "    coord_df.to_csv(output_file, index=False)\n",
    "    \n",
    "    print(f\"Converted {len(all_coords)} coordinate pairs\")\n",
    "    print(f\"Output saved to: {output_file}\")"
   ]
  },
  {
   "cell_type": "code",
   "execution_count": 8,
   "id": "7520b593",
   "metadata": {},
   "outputs": [
    {
     "name": "stdout",
     "output_type": "stream",
     "text": [
      "Converted 181 coordinate pairs\n",
      "Output saved to: haiti_coastline_lonlat.csv\n"
     ]
    }
   ],
   "source": [
    "convert_wkt_csv_to_lonlat(\"../gis-meshmaker/meshmaker/datasets/gonave_hd_extent.csv\",\n",
    "                           \"haiti_coastline_lonlat.csv\")"
   ]
  }
 ],
 "metadata": {
  "kernelspec": {
   "display_name": "remotesensing",
   "language": "python",
   "name": "python3"
  },
  "language_info": {
   "codemirror_mode": {
    "name": "ipython",
    "version": 3
   },
   "file_extension": ".py",
   "mimetype": "text/x-python",
   "name": "python",
   "nbconvert_exporter": "python",
   "pygments_lexer": "ipython3",
   "version": "3.9.21"
  }
 },
 "nbformat": 4,
 "nbformat_minor": 5
}
