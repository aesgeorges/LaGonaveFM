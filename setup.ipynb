{
 "cells": [
  {
   "cell_type": "code",
   "execution_count": 1,
   "metadata": {},
   "outputs": [
    {
     "name": "stderr",
     "output_type": "stream",
     "text": [
      "/home/aesgeorges/anaconda3/envs/adcircpy/lib/python3.11/site-packages/tqdm/auto.py:21: TqdmWarning: IProgress not found. Please update jupyter and ipywidgets. See https://ipywidgets.readthedocs.io/en/stable/user_install.html\n",
      "  from .autonotebook import tqdm as notebook_tqdm\n"
     ]
    }
   ],
   "source": [
    "from datetime import datetime, timedelta\n",
    "from pathlib import Path\n",
    "\n",
    "from adcircpy import AdcircMesh, AdcircRun, Tides\n",
    "from adcircpy.forcing.winds import BestTrackForcing\n",
    "from adcircpy.utilities import download_mesh\n",
    "\n",
    "import shapefile\n",
    "import geopandas as gpd\n",
    "from shapely.geometry import Point, Polygon\n",
    "\n",
    "import numpy as np\n",
    "\n",
    "stage = 'sims' #'staging/runs'\n",
    "HURRICANE = 'Matthew2016'\n",
    "OUTPUT_DIRECTORY = stage+'/Gonave_SLR_retreats/setup/r4_new/' #stage+'/runs/'+HURRICANE+'_v3c2_better_cover_rehab'\n",
    "shapefile_path = 'datasets/mangrove_covers/refined/mangrove_polygon_refined.shp'"
   ]
  },
  {
   "cell_type": "code",
   "execution_count": 2,
   "metadata": {},
   "outputs": [],
   "source": [
    "def add_mannings_n_for_multiple_polygons(mesh, shapefile_n_pairs):\n",
    "    \"\"\"\n",
    "    Add Manning's n values to mesh nodes within polygons from multiple shapefiles.\n",
    "    \n",
    "    Parameters:\n",
    "    -----------\n",
    "    mesh : adcircpy.AdcircMesh\n",
    "        ADCIRC mesh object\n",
    "    shapefile_n_pairs : list of tuples\n",
    "        List of tuples where each tuple contains:\n",
    "        - shapefile_path (str): Path to the shapefile containing polygons\n",
    "        - mannings_n_value (float): Manning's n value to apply to all nodes within the polygons\n",
    "    \n",
    "    Returns:\n",
    "    --------\n",
    "    adcircpy.AdcircMesh\n",
    "        The modified mesh object with updated Manning's n values\n",
    "    \"\"\"\n",
    "    default_n = 0.025  # Default Manning's n value\n",
    "\n",
    "    # Initialize Manning's n if it doesn't exist\n",
    "    #if not hasattr(mesh, 'mannings_n_at_sea_floor'):\n",
    "     #   mesh.mannings_n_at_sea_floor = np.full(len(mesh.coords), default_n)\n",
    "    \n",
    "    # Track total modified nodes\n",
    "    total_modified = 0\n",
    "    \n",
    "    node_values = np.full(mesh.values.shape, 0.025)\n",
    "    # Process each shapefile and its corresponding Manning's n value\n",
    "    for shapefile_path, mannings_n_value in shapefile_n_pairs:\n",
    "        print(f\"Processing shapefile: {shapefile_path} with Manning's n = {mannings_n_value}\")\n",
    "        \n",
    "        # Load polygons from shapefile\n",
    "        polygons = gpd.read_file(shapefile_path)\n",
    "        print(f\"Loaded {len(polygons)} polygons\")\n",
    "        \n",
    "        # Process each polygon\n",
    "        for idx, row in polygons.iterrows():\n",
    "            polygon = row.geometry\n",
    "            \n",
    "            # Find and update nodes within this polygon\n",
    "            count = 0\n",
    "            if polygon is not None:\n",
    "                for i, node_row in mesh.coords.iterrows():\n",
    "                    x = node_row['x']  # Assuming column is named 'x'\n",
    "                    y = node_row['y']  # Assuming column is named 'y'\n",
    "                    \n",
    "                    point = Point(x, y)\n",
    "                    if polygon.contains(point):\n",
    "                        node_values[i-1] = mannings_n_value\n",
    "                        count += 1\n",
    "            else:\n",
    "                print(f\"Polygon {idx} is None, skipping...\")\n",
    "                continue\n",
    "            \n",
    "            total_modified += count\n",
    "            print(f\"Polygon {idx}: Updated {count} nodes with Manning's n = {mannings_n_value}\")\n",
    "    # Update the mesh's mannings_n_at_sea_floor array\n",
    "    mesh.mannings_n_at_sea_floor = node_values\n",
    "    \n",
    "    print(f\"Total nodes modified with non-default values: {total_modified}\")\n",
    "    return mesh"
   ]
  },
  {
   "cell_type": "code",
   "execution_count": 3,
   "metadata": {},
   "outputs": [],
   "source": [
    "mangrove_n = 0.2 #0.2 for mangrove\n",
    "mudflat_n = 0.016\n",
    "sand_n = 0.015\n",
    "urban_n = 0.15\n",
    "crop_n = 0.08\n",
    "\n",
    "shapefile_root = 'datasets/mangrove_covers/refined/'\n",
    "# Define the shapefile and corresponding Manning's n values\n",
    "pairs = [[shapefile_root+'urban_polygon_refined.shp', urban_n],\n",
    "         [shapefile_root+'mangrove_polygon_retreat_medium2.shp', mangrove_n],\n",
    "         [shapefile_root+'mudflat_polygon_refined.shp', mudflat_n],\n",
    "         [shapefile_root+'sand_polygon_refined.shp', sand_n],\n",
    "         [shapefile_root+'crop_polygon_refined.shp', crop_n]]"
   ]
  },
  {
   "cell_type": "code",
   "execution_count": 4,
   "metadata": {},
   "outputs": [
    {
     "name": "stderr",
     "output_type": "stream",
     "text": [
      "/home/aesgeorges/anaconda3/envs/adcircpy/lib/python3.11/site-packages/adcircpy/mesh/parsers/grd.py:22: FutureWarning: The 'delim_whitespace' keyword in pd.read_csv is deprecated and will be removed in a future version. Use ``sep='\\s+'`` instead\n",
      "  output['nodes'] = pandas.read_csv(\n",
      "/home/aesgeorges/anaconda3/envs/adcircpy/lib/python3.11/site-packages/adcircpy/mesh/parsers/grd.py:37: FutureWarning: The 'delim_whitespace' keyword in pd.read_csv is deprecated and will be removed in a future version. Use ``sep='\\s+'`` instead\n",
      "  output['elements'] = pandas.read_csv(\n"
     ]
    },
    {
     "name": "stdout",
     "output_type": "stream",
     "text": [
      "Processing shapefile: datasets/mangrove_covers/refined/urban_polygon_refined.shp with Manning's n = 0.15\n",
      "Loaded 7 polygons\n",
      "Polygon 0: Updated 150 nodes with Manning's n = 0.15\n",
      "Polygon 1: Updated 5 nodes with Manning's n = 0.15\n",
      "Polygon 2: Updated 0 nodes with Manning's n = 0.15\n",
      "Polygon 3: Updated 0 nodes with Manning's n = 0.15\n",
      "Polygon 4: Updated 0 nodes with Manning's n = 0.15\n",
      "Polygon 5: Updated 0 nodes with Manning's n = 0.15\n",
      "Polygon 6: Updated 0 nodes with Manning's n = 0.15\n",
      "Processing shapefile: datasets/mangrove_covers/refined/mangrove_polygon_retreat_medium2.shp with Manning's n = 0.2\n",
      "Loaded 1 polygons\n",
      "Polygon 0: Updated 689 nodes with Manning's n = 0.2\n",
      "Processing shapefile: datasets/mangrove_covers/refined/mudflat_polygon_refined.shp with Manning's n = 0.016\n",
      "Loaded 4 polygons\n",
      "Polygon 0: Updated 470 nodes with Manning's n = 0.016\n",
      "Polygon 1 is None, skipping...\n",
      "Polygon 2 is None, skipping...\n",
      "Polygon 3 is None, skipping...\n",
      "Processing shapefile: datasets/mangrove_covers/refined/sand_polygon_refined.shp with Manning's n = 0.015\n",
      "Loaded 5 polygons\n",
      "Polygon 0: Updated 92 nodes with Manning's n = 0.015\n",
      "Polygon 1 is None, skipping...\n",
      "Polygon 2 is None, skipping...\n",
      "Polygon 3: Updated 62 nodes with Manning's n = 0.015\n",
      "Polygon 4: Updated 122 nodes with Manning's n = 0.015\n",
      "Processing shapefile: datasets/mangrove_covers/refined/crop_polygon_refined.shp with Manning's n = 0.08\n",
      "Loaded 2 polygons\n",
      "Polygon 0: Updated 223 nodes with Manning's n = 0.08\n",
      "Polygon 1: Updated 268 nodes with Manning's n = 0.08\n",
      "Total nodes modified with non-default values: 2081\n"
     ]
    }
   ],
   "source": [
    "# open mesh file\n",
    "mesh = AdcircMesh.open('sims/Gonave_SLR_retreats/r0/S0/fort.14', crs=4326)    # OR 'datasets/meshes/ww_gonave_v3c.grd'\n",
    "\n",
    "# Adding Manning's\n",
    "# generate tau0 factor\n",
    "mesh.generate_tau0()\n",
    "\n",
    "# also add Manning's N to the domain (constant for this example)\n",
    "#mesh.mannings_n_at_sea_floor = np.full(mesh.values.shape, 0.025)\n",
    "mesh = add_mannings_n_for_multiple_polygons(mesh, pairs)\n",
    "# initialize tidal forcing and constituents\n",
    "#tidal_forcing = Tides()\n",
    "#tidal_forcing.use_all()\n",
    "#mesh.add_forcing(tidal_forcing)"
   ]
  },
  {
   "cell_type": "code",
   "execution_count": 5,
   "metadata": {},
   "outputs": [],
   "source": [
    "# set simulation dates\n",
    "spinup_time = timedelta(days=15)                                                                        \n",
    "duration = timedelta(days=11)\n",
    "start_date = datetime(2016, 9, 28, 12)\n",
    "end_date = start_date + duration"
   ]
  },
  {
   "cell_type": "code",
   "execution_count": 6,
   "metadata": {},
   "outputs": [
    {
     "name": "stderr",
     "output_type": "stream",
     "text": [
      "/home/aesgeorges/anaconda3/envs/adcircpy/lib/python3.11/site-packages/stormevents/nhc/track.py:1137: RuntimeWarning: invalid value encountered in divide\n",
      "  speeds = pandas.Series(distances / abs(intervals), index=indices)\n"
     ]
    }
   ],
   "source": [
    "# initialize wind forcing\n",
    "wind_forcing = BestTrackForcing(storm=HURRICANE, nws=20)\n",
    "mesh.add_forcing(wind_forcing)"
   ]
  },
  {
   "cell_type": "code",
   "execution_count": 7,
   "metadata": {},
   "outputs": [],
   "source": [
    "# instantiate driver object\n",
    "driver = AdcircRun(mesh, start_date, end_date, spinup_time, netcdf=True)   \n",
    "driver.NOUTGE = -3\n",
    "driver.NOUTGV = -3\n",
    "driver.NOUTGM = -3\n",
    "driver.TOUTFGE = 30\n",
    "driver.TOUTFGV = 30\n",
    "driver.TOUTFGM = 30\n",
    "driver.NSPOOLGE = 1800\n",
    "driver.NSPOOLGV = 1800\n",
    "driver.NSPOOLGM = 1800\n",
    "driver.DTDP = 10\n",
    "# write driver state to disk\n",
    "driver.write(OUTPUT_DIRECTORY, overwrite=True)"
   ]
  },
  {
   "cell_type": "code",
   "execution_count": 8,
   "metadata": {},
   "outputs": [
    {
     "name": "stdout",
     "output_type": "stream",
     "text": [
      "Bash script created and outputted at sims/Gonave_SLR_retreats/setup/r4_new/\n"
     ]
    }
   ],
   "source": [
    "bash_script = rf\"\"\"\n",
    "#!/bin/bash\n",
    "\n",
    "current_dir=$(pwd)\n",
    "subdomain_dir=$current_dir/s1_gonave\n",
    "folder_name=$(basename $current_dir)\n",
    "\n",
    "mkdir ../../logs\n",
    "mkdir ../../logs/$folder_name\n",
    "log_header=\"Logs of run attempts and their parameters.\"\n",
    "log_header2=\"Hurricane $folder_name\"\n",
    "log_header3=\"------------------------------------------\"\n",
    "log_header4=\"id\\t\\t\\t\\t\\t\\tdt\\t\\t\\t\\t\\t\\ttype\\t\\t\\t\\t\\t\\tcomment\"\n",
    "echo -e $log_header > runlog.out\n",
    "echo -e $log_header2 >> runlog.out\n",
    "echo -e $log_header3 >> runlog.out\n",
    "echo -e $log_header4 >> runlog.out\n",
    "\n",
    "cp ../../../scripts/fort22fix.py fort22fix.py\n",
    "python fort22fix.py\n",
    "\n",
    "cp ../../../scripts/run_new.sh run.sh\n",
    "cp ../../../scripts/slurmcold.sh slurm.sh\n",
    "\n",
    "current_dir=$(pwd)\n",
    "folder_name=$(basename $current_dir)\n",
    "sed -i \"s/^#SBATCH --job-name=.*$/#SBATCH --job-name=$folder_name/\" slurm.sh\n",
    "\n",
    "# subdomain file structure setup\n",
    "mkdir s1_gonave\n",
    "subdomain_dir=$current_dir/s1_gonave\n",
    "cp ../../../datasets/s1_gonave/shape.e14 s1_gonave/shape.e14\n",
    "# remove BOM (\\ufeff) from shape.e14\n",
    "sed -i '1s/^\\xef\\xbb\\xbf//' s1_gonave/shape.e14\n",
    "\n",
    "source ~/anaconda3/etc/profile.d/conda.sh  # Adjust the path to your Conda installation\n",
    "conda activate py2\n",
    "python2.7 ../../../scripts/gensub.py $current_dir $subdomain_dir\n",
    "\n",
    "chmod +x run.sh slurm.sh \n",
    "\n",
    "\"\"\"\n",
    "\n",
    "# Write the bash script to the output directory\n",
    "with open(OUTPUT_DIRECTORY + '/init.sh', 'w') as file:\n",
    "    file.write(bash_script)\n",
    "\n",
    "print(\"Bash script created and outputted at\", OUTPUT_DIRECTORY)"
   ]
  },
  {
   "cell_type": "code",
   "execution_count": null,
   "metadata": {},
   "outputs": [],
   "source": []
  }
 ],
 "metadata": {
  "kernelspec": {
   "display_name": "adcircpy",
   "language": "python",
   "name": "python3"
  },
  "language_info": {
   "codemirror_mode": {
    "name": "ipython",
    "version": 3
   },
   "file_extension": ".py",
   "mimetype": "text/x-python",
   "name": "python",
   "nbconvert_exporter": "python",
   "pygments_lexer": "ipython3",
   "version": "3.11.11"
  }
 },
 "nbformat": 4,
 "nbformat_minor": 2
}
