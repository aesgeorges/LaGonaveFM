{
 "cells": [
  {
   "cell_type": "code",
   "execution_count": 22,
   "metadata": {},
   "outputs": [],
   "source": [
    "from datetime import datetime, timedelta\n",
    "from pathlib import Path\n",
    "\n",
    "from adcircpy import AdcircMesh, AdcircRun, Tides\n",
    "from adcircpy.forcing.winds import BestTrackForcing\n",
    "from adcircpy.utilities import download_mesh\n",
    "\n",
    "import shapefile\n",
    "import geopandas as gpd\n",
    "from shapely.geometry import Point, Polygon\n",
    "\n",
    "import numpy as np\n",
    "\n",
    "stage = 'staging'\n",
    "HURRICANE = 'Matthew2016'\n",
    "OUTPUT_DIRECTORY = stage+'/runs/'+HURRICANE+'_v2b_mangrove_test'\n",
    "shapefile_path = 'datasets/mangrove_covers/refined/mangrove_polygon_refined.shp'"
   ]
  },
  {
   "cell_type": "code",
   "execution_count": null,
   "metadata": {},
   "outputs": [],
   "source": [
    "def add_mannings_n_for_polygon(mesh, shapefile_path, mannings_n_value):\n",
    "    \"\"\"\n",
    "    Add Manning's n values to mesh nodes within polygons from a shapefile.\n",
    "    \n",
    "    Parameters:\n",
    "    -----------\n",
    "    mesh : adcircpy.AdcircMesh\n",
    "        ADCIRC mesh object\n",
    "    shapefile_path : str\n",
    "        Path to the shapefile containing polygons\n",
    "    mannings_n_value : float\n",
    "        Manning's n value to apply to all nodes within the polygons\n",
    "    \n",
    "    Returns:\n",
    "    --------\n",
    "    adcircpy.AdcircMesh\n",
    "        The modified mesh object with updated Manning's n values\n",
    "    \"\"\"\n",
    "    default_n = 0.025  # Default Manning's n value\n",
    "\n",
    "    # Initialize Manning's n if it doesn't exist\n",
    "\n",
    "    #if not hasattr(mesh, 'mannings_n_at_sea_floor'):\n",
    "        # Create an array with default values based on the number of rows in coords\n",
    "     #   mesh.mannings_n_at_sea_floor = np.full(len(mesh.coords), default_n)\n",
    "    \n",
    "    # Load polygons from shapefile\n",
    "    print(f\"Loading polygons from {shapefile_path}...\")\n",
    "    polygons = gpd.read_file(shapefile_path)\n",
    "    print(f\"Loaded {len(polygons)} polygons\")\n",
    "    \n",
    "    # Track total modified nodes\n",
    "    total_modified = 0\n",
    "    \n",
    "    # Process each polygon\n",
    "    node_values = np.array([])\n",
    "    for idx, row in polygons.iterrows():\n",
    "        polygon = row.geometry\n",
    "        \n",
    "        # Find and update nodes within this polygon\n",
    "        count = 0\n",
    "        if polygon is not None:\n",
    "            for i, node_row in mesh.coords.iterrows():\n",
    "                # Access coordinates using column names (adjust if different)\n",
    "                x = node_row['x']  # Assuming column is named 'x'\n",
    "                y = node_row['y']  # Assuming column is named 'y'\n",
    "                \n",
    "                point = Point(x, y)    \n",
    "                if polygon.contains(point): # add new cover mannings\n",
    "                    node_values = np.append(node_values, mannings_n_value)\n",
    "                    #mesh.mannings_n_at_sea_floor[i] = mannings_n_value\n",
    "                    count += 1\n",
    "                else: # add default mannings\n",
    "                    node_values = np.append(node_values, default_n)\n",
    "        else:\n",
    "            print(f\"Polygon {idx} is None, skipping...\")\n",
    "            continue\n",
    "        # Update the mesh's mannings_n_at_sea_floor array\n",
    "        node_values = node_values.reshape(len(node_values), 1)\n",
    "        mesh.mannings_n_at_sea_floor = node_values\n",
    "        \n",
    "        total_modified += count\n",
    "        print(f\"Polygon {idx}: Updated {count} nodes with Manning's n = {mannings_n_value}\")\n",
    "    \n",
    "    print(f\"Total nodes modified with non-default values: {total_modified}\")\n",
    "    return mesh"
   ]
  },
  {
   "cell_type": "code",
   "execution_count": 24,
   "metadata": {},
   "outputs": [
    {
     "name": "stderr",
     "output_type": "stream",
     "text": [
      "/home/aesgeorges/.local/lib/python3.10/site-packages/adcircpy/mesh/parsers/grd.py:22: FutureWarning: The 'delim_whitespace' keyword in pd.read_csv is deprecated and will be removed in a future version. Use ``sep='\\s+'`` instead\n",
      "  output['nodes'] = pandas.read_csv(\n",
      "/home/aesgeorges/.local/lib/python3.10/site-packages/adcircpy/mesh/parsers/grd.py:37: FutureWarning: The 'delim_whitespace' keyword in pd.read_csv is deprecated and will be removed in a future version. Use ``sep='\\s+'`` instead\n",
      "  output['elements'] = pandas.read_csv(\n"
     ]
    },
    {
     "name": "stdout",
     "output_type": "stream",
     "text": [
      "Loading polygons from datasets/mangrove_covers/refined/mangrove_polygon_refined.shp...\n",
      "Loaded 3 polygons\n",
      "Polygon 0: Updated 2974 nodes with Manning's n = 0.2\n",
      "Polygon 1 is None, skipping...\n",
      "Polygon 2 is None, skipping...\n",
      "Total nodes modified with non-default values: 2974\n"
     ]
    }
   ],
   "source": [
    "# open mesh file\n",
    "mesh = AdcircMesh.open('datasets/meshes/ww_gonave_v2b_mangrove.grd', crs=4326)    \n",
    "\n",
    "# Adding Manning's\n",
    "# generate tau0 factor\n",
    "mesh.generate_tau0()\n",
    "\n",
    "# also add Manning's N to the domain (constant for this example)\n",
    "#mesh.mannings_n_at_sea_floor = np.full(mesh.values.shape, 0.025)\n",
    "mesh = add_mannings_n_for_polygon(mesh, shapefile_path, 0.2)\n",
    "# initialize tidal forcing and constituents\n",
    "tidal_forcing = Tides()\n",
    "tidal_forcing.use_all()\n",
    "mesh.add_forcing(tidal_forcing)"
   ]
  },
  {
   "cell_type": "code",
   "execution_count": 25,
   "metadata": {},
   "outputs": [],
   "source": [
    "# set simulation dates\n",
    "spinup_time = timedelta(days=15)                                                                        \n",
    "duration = timedelta(days=11)\n",
    "start_date = datetime(2016, 9, 28, 12)\n",
    "end_date = start_date + duration"
   ]
  },
  {
   "cell_type": "code",
   "execution_count": 26,
   "metadata": {},
   "outputs": [
    {
     "name": "stderr",
     "output_type": "stream",
     "text": [
      "/home/aesgeorges/.local/lib/python3.10/site-packages/stormevents/nhc/track.py:1137: RuntimeWarning: invalid value encountered in divide\n",
      "  speeds = pandas.Series(distances / abs(intervals), index=indices)\n"
     ]
    }
   ],
   "source": [
    "# initialize wind forcing\n",
    "wind_forcing = BestTrackForcing(storm=HURRICANE, nws=20)\n",
    "mesh.add_forcing(wind_forcing)"
   ]
  },
  {
   "cell_type": "code",
   "execution_count": 27,
   "metadata": {},
   "outputs": [
    {
     "name": "stderr",
     "output_type": "stream",
     "text": [
      "/home/aesgeorges/.local/lib/python3.10/site-packages/adcircpy/mesh/fort14.py:58: FutureWarning: Assigning CRS to a GeoDataFrame without a geometry column is now deprecated and will not be supported in the future.\n",
      "  self._gdf = gpd.GeoDataFrame(data, crs=self._mesh.crs)\n"
     ]
    }
   ],
   "source": [
    "# instantiate driver object\n",
    "driver = AdcircRun(mesh, start_date, end_date, spinup_time, netcdf=True)   \n",
    "driver.NOUTGE = -3\n",
    "driver.NOUTGV = -3\n",
    "driver.NOUTGM = -3\n",
    "driver.TOUTFGE = 30\n",
    "driver.TOUTFGV = 30\n",
    "driver.TOUTFGM = 30\n",
    "driver.NSPOOLGE = 20\n",
    "driver.NSPOOLGV = 20\n",
    "driver.NSPOOLGM = 20\n",
    "#driver.DTDP = 10\n",
    "# write driver state to disk\n",
    "driver.write(OUTPUT_DIRECTORY, overwrite=True)"
   ]
  },
  {
   "cell_type": "code",
   "execution_count": 15,
   "metadata": {},
   "outputs": [
    {
     "name": "stdout",
     "output_type": "stream",
     "text": [
      "Bash script created and outputted at staging/runs/Matthew2016_v2b_mangrove_test\n"
     ]
    }
   ],
   "source": [
    "bash_script = rf\"\"\"\n",
    "#!/bin/bash\n",
    "\n",
    "current_dir=$(pwd)\n",
    "subdomain_dir=$current_dir/s1_gonave\n",
    "folder_name=$(basename $current_dir)\n",
    "\n",
    "mkdir ../../logs\n",
    "mkdir ../../logs/$folder_name\n",
    "log_header=\"Logs of run attempts and their parameters.\"\n",
    "log_header2=\"Hurricane $folder_name\"\n",
    "log_header3=\"------------------------------------------\"\n",
    "log_header4=\"id\\t\\t\\t\\t\\t\\tdt\\t\\t\\t\\t\\t\\ttype\\t\\t\\t\\t\\t\\tcomment\"\n",
    "echo -e $log_header > runlog.out\n",
    "echo -e $log_header2 >> runlog.out\n",
    "echo -e $log_header3 >> runlog.out\n",
    "echo -e $log_header4 >> runlog.out\n",
    "\n",
    "cp ../../../scripts/fort22fix.py fort22fix.py\n",
    "python fort22fix.py\n",
    "\n",
    "cp ../../../scripts/run_new.sh run.sh\n",
    "cp ../../../scripts/slurmcold.sh slurm.sh\n",
    "\n",
    "current_dir=$(pwd)\n",
    "folder_name=$(basename $current_dir)\n",
    "sed -i \"s/^#SBATCH --job-name=.*$/#SBATCH --job-name=$folder_name/\" slurm.sh\n",
    "\n",
    "# subdomain file structure setup\n",
    "mkdir s1_gonave\n",
    "subdomain_dir=$current_dir/s1_gonave\n",
    "cp ../../../datasets/s1_gonave/shape.e14 s1_gonave/shape.e14\n",
    "# remove BOM (\\ufeff) from shape.e14\n",
    "sed -i '1s/^\\xef\\xbb\\xbf//' s1_gonave/shape.e14\n",
    "\n",
    "source ~/anaconda3/etc/profile.d/conda.sh  # Adjust the path to your Conda installation\n",
    "conda activate py2\n",
    "python2.7 ../../../scripts/gensub.py $current_dir $subdomain_dir\n",
    "\n",
    "chmod +x run.sh slurm.sh \n",
    "\n",
    "\"\"\"\n",
    "\n",
    "# Write the bash script to the output directory\n",
    "with open(OUTPUT_DIRECTORY + '/init.sh', 'w') as file:\n",
    "    file.write(bash_script)\n",
    "\n",
    "print(\"Bash script created and outputted at\", OUTPUT_DIRECTORY)"
   ]
  },
  {
   "cell_type": "code",
   "execution_count": null,
   "metadata": {},
   "outputs": [],
   "source": []
  }
 ],
 "metadata": {
  "kernelspec": {
   "display_name": "adcircpy",
   "language": "python",
   "name": "python3"
  },
  "language_info": {
   "codemirror_mode": {
    "name": "ipython",
    "version": 3
   },
   "file_extension": ".py",
   "mimetype": "text/x-python",
   "name": "python",
   "nbconvert_exporter": "python",
   "pygments_lexer": "ipython3",
   "version": "3.11.11"
  }
 },
 "nbformat": 4,
 "nbformat_minor": 2
}
