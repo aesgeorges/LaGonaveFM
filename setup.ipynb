{
 "cells": [
  {
   "cell_type": "code",
   "execution_count": 13,
   "metadata": {},
   "outputs": [],
   "source": [
    "from datetime import datetime, timedelta\n",
    "from pathlib import Path\n",
    "\n",
    "from adcircpy import AdcircMesh, AdcircRun, Tides\n",
    "from adcircpy.forcing.winds import BestTrackForcing\n",
    "from adcircpy.utilities import download_mesh\n",
    "\n",
    "import numpy as np\n",
    "\n",
    "stage = 'staging'\n",
    "HURRICANE = 'Matthew2016'\n",
    "OUTPUT_DIRECTORY = stage+'/runs/'+HURRICANE+'_test'"
   ]
  },
  {
   "cell_type": "code",
   "execution_count": 14,
   "metadata": {},
   "outputs": [
    {
     "name": "stderr",
     "output_type": "stream",
     "text": [
      "/home/aesgeorges/anaconda3/envs/hydrogp/lib/python3.12/site-packages/adcircpy/mesh/parsers/grd.py:22: FutureWarning: The 'delim_whitespace' keyword in pd.read_csv is deprecated and will be removed in a future version. Use ``sep='\\s+'`` instead\n",
      "  output['nodes'] = pandas.read_csv(\n",
      "/home/aesgeorges/anaconda3/envs/hydrogp/lib/python3.12/site-packages/adcircpy/mesh/parsers/grd.py:37: FutureWarning: The 'delim_whitespace' keyword in pd.read_csv is deprecated and will be removed in a future version. Use ``sep='\\s+'`` instead\n",
      "  output['elements'] = pandas.read_csv(\n"
     ]
    }
   ],
   "source": [
    "# open mesh file\n",
    "mesh = AdcircMesh.open('datasets/nc_inundation_v6c.grd', crs=4326)    \n",
    "\n",
    "# Adding Manning's\n",
    "# generate tau0 factor\n",
    "mesh.generate_tau0()\n",
    "\n",
    "# also add Manning's N to the domain (constant for this example)\n",
    "mesh.mannings_n_at_sea_floor = np.full(mesh.values.shape, 0.025)\n",
    "\n",
    "# initialize tidal forcing and constituents\n",
    "tidal_forcing = Tides()\n",
    "tidal_forcing.use_all()\n",
    "mesh.add_forcing(tidal_forcing)"
   ]
  },
  {
   "cell_type": "code",
   "execution_count": 15,
   "metadata": {},
   "outputs": [],
   "source": [
    "# set simulation dates\n",
    "spinup_time = timedelta(days=15)                                                                        \n",
    "duration = timedelta(days=11)\n",
    "start_date = datetime(2016, 9, 28, 12)\n",
    "end_date = start_date + duration"
   ]
  },
  {
   "cell_type": "code",
   "execution_count": 16,
   "metadata": {},
   "outputs": [
    {
     "name": "stderr",
     "output_type": "stream",
     "text": [
      "/home/aesgeorges/anaconda3/envs/hydrogp/lib/python3.12/site-packages/stormevents/nhc/track.py:1110: RuntimeWarning: invalid value encountered in divide\n",
      "  speeds = pandas.Series(distances / abs(intervals), index=indices)\n"
     ]
    }
   ],
   "source": [
    "# initialize wind forcing\n",
    "wind_forcing = BestTrackForcing(storm=HURRICANE, nws=20)\n",
    "mesh.add_forcing(wind_forcing)"
   ]
  },
  {
   "cell_type": "code",
   "execution_count": 17,
   "metadata": {},
   "outputs": [
    {
     "name": "stderr",
     "output_type": "stream",
     "text": [
      "/home/aesgeorges/anaconda3/envs/hydrogp/lib/python3.12/site-packages/stormevents/nhc/track.py:641: FutureWarning: A value is trying to be set on a copy of a DataFrame or Series through chained assignment using an inplace method.\n",
      "The behavior will change in pandas 3.0. This inplace method will never work because the intermediate object on which we are setting values always behaves as a copy.\n",
      "\n",
      "For example, when doing 'df[col].method(value, inplace=True)', try using 'df.method({col: value}, inplace=True)' or df[col] = df[col].method(value) instead, to perform the operation inplace on the original object.\n",
      "\n",
      "\n",
      "  atcf[\"background_pressure\"].fillna(method=\"ffill\", inplace=True)\n",
      "/home/aesgeorges/anaconda3/envs/hydrogp/lib/python3.12/site-packages/stormevents/nhc/track.py:641: FutureWarning: Series.fillna with 'method' is deprecated and will raise in a future version. Use obj.ffill() or obj.bfill() instead.\n",
      "  atcf[\"background_pressure\"].fillna(method=\"ffill\", inplace=True)\n"
     ]
    }
   ],
   "source": [
    "# instantiate driver object\n",
    "driver = AdcircRun(mesh, start_date, end_date, spinup_time, netcdf=True)   \n",
    "driver.NOUTGE = -3\n",
    "driver.NOUTGV = -3\n",
    "driver.NOUTGM = -3\n",
    "driver.TOUTFGE = 30\n",
    "driver.TOUTFGV = 30\n",
    "driver.TOUTFGM = 30\n",
    "driver.NSPOOLGE = 20\n",
    "driver.NSPOOLGV = 20\n",
    "driver.NSPOOLGM = 20\n",
    "                                                                                                                                                  # write driver state to disk\n",
    "driver.write(OUTPUT_DIRECTORY, overwrite=True)"
   ]
  },
  {
   "cell_type": "code",
   "execution_count": 18,
   "metadata": {},
   "outputs": [
    {
     "name": "stdout",
     "output_type": "stream",
     "text": [
      "Bash script created and outputted at staging/runs/Matthew2016_test\n"
     ]
    }
   ],
   "source": [
    "bash_script = rf\"\"\"\n",
    "#!/bin/bash\n",
    "\n",
    "current_dir=$(pwd)\n",
    "folder_name=$(basename $current_dir)\n",
    "\n",
    "mkdir ../../logs\n",
    "mkdir ../../logs/$folder_name\n",
    "log_header=\"Logs of run attempts and their parameters.\"\n",
    "log_header2=\"Hurricane $folder_name\"\n",
    "log_header3=\"------------------------------------------\"\n",
    "log_header4=\"id\\t\\t\\t\\t\\t\\tdt\\t\\t\\t\\t\\t\\ttype\\t\\t\\t\\t\\t\\tcomment\"\n",
    "echo -e $log_header > runlog.out\n",
    "echo -e $log_header2 >> runlog.out\n",
    "echo -e $log_header3 >> runlog.out\n",
    "echo -e $log_header4 >> runlog.out\n",
    "\n",
    "cp ../../../scripts/fort22fix.py fort22fix.py\n",
    "python fort22fix.py\n",
    "\n",
    "cp ../../../scripts/run_new.sh run.sh\n",
    "cp ../../../scripts/slurmcold.sh slurmcold.sh\n",
    "cp ../../../scripts/slurmhot.sh slurmhot.sh\n",
    "\n",
    "current_dir=$(pwd)\n",
    "folder_name=$(basename $current_dir)\n",
    "sed -i \"s/^#SBATCH --job-name=.*$/#SBATCH --job-name=$folder_name/\" slurmcold.sh\n",
    "sed -i \"s/^#SBATCH --job-name=.*$/#SBATCH --job-name=$folder_name hot/\" slurmhot.sh\n",
    "\n",
    "chmod +x run.sh slurmcold.sh slurmhot.sh\n",
    "\"\"\"\n",
    "\n",
    "# Write the bash script to the output directory\n",
    "with open(OUTPUT_DIRECTORY + '/init.sh', 'w') as file:\n",
    "    file.write(bash_script)\n",
    "\n",
    "print(\"Bash script created and outputted at\", OUTPUT_DIRECTORY)"
   ]
  }
 ],
 "metadata": {
  "kernelspec": {
   "display_name": "hydrogp",
   "language": "python",
   "name": "hydrogp"
  },
  "language_info": {
   "codemirror_mode": {
    "name": "ipython",
    "version": 3
   },
   "file_extension": ".py",
   "mimetype": "text/x-python",
   "name": "python",
   "nbconvert_exporter": "python",
   "pygments_lexer": "ipython3",
   "version": "3.11.7"
  }
 },
 "nbformat": 4,
 "nbformat_minor": 2
}
