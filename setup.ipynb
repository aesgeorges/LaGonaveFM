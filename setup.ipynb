{
 "cells": [
  {
   "cell_type": "code",
   "execution_count": 1,
   "metadata": {},
   "outputs": [],
   "source": [
    "from datetime import datetime, timedelta\n",
    "from pathlib import Path\n",
    "\n",
    "from adcircpy import AdcircMesh, AdcircRun, Tides\n",
    "from adcircpy.forcing.winds import BestTrackForcing\n",
    "from adcircpy.utilities import download_mesh\n",
    "\n",
    "import numpy as np\n",
    "\n",
    "stage = 'staging'\n",
    "HURRICANE = 'Matthew2016'\n",
    "OUTPUT_DIRECTORY = stage+'/runs/'+HURRICANE+'_2'"
   ]
  },
  {
   "cell_type": "code",
   "execution_count": 2,
   "metadata": {},
   "outputs": [
    {
     "name": "stderr",
     "output_type": "stream",
     "text": [
      "/global/home/users/alexandregeorges/.local/lib/python3.11/site-packages/adcircpy/mesh/parsers/grd.py:22: FutureWarning: The 'delim_whitespace' keyword in pd.read_csv is deprecated and will be removed in a future version. Use ``sep='\\s+'`` instead\n",
      "  output['nodes'] = pandas.read_csv(\n",
      "/global/home/users/alexandregeorges/.local/lib/python3.11/site-packages/adcircpy/mesh/parsers/grd.py:37: FutureWarning: The 'delim_whitespace' keyword in pd.read_csv is deprecated and will be removed in a future version. Use ``sep='\\s+'`` instead\n",
      "  output['elements'] = pandas.read_csv(\n"
     ]
    }
   ],
   "source": [
    "# open mesh file\n",
    "mesh = AdcircMesh.open('datasets/nc_inundation_v6c.grd', crs=4326)    \n",
    "\n",
    "# Adding Manning's\n",
    "# generate tau0 factor\n",
    "mesh.generate_tau0()\n",
    "\n",
    "# also add Manning's N to the domain (constant for this example)\n",
    "mesh.mannings_n_at_sea_floor = np.full(mesh.values.shape, 0.025)\n",
    "\n",
    "# initialize tidal forcing and constituents\n",
    "tidal_forcing = Tides()\n",
    "tidal_forcing.use_all()\n",
    "mesh.add_forcing(tidal_forcing)"
   ]
  },
  {
   "cell_type": "code",
   "execution_count": 3,
   "metadata": {},
   "outputs": [],
   "source": [
    "# set simulation dates\n",
    "spinup_time = timedelta(days=15)                                                                        \n",
    "duration = timedelta(days=11)\n",
    "start_date = datetime(2016, 9, 28, 12)\n",
    "end_date = start_date + duration"
   ]
  },
  {
   "cell_type": "code",
   "execution_count": 4,
   "metadata": {},
   "outputs": [
    {
     "name": "stderr",
     "output_type": "stream",
     "text": [
      "/global/home/users/alexandregeorges/.local/lib/python3.11/site-packages/stormevents/nhc/storms.py:64: FutureWarning: The argument 'date_parser' is deprecated and will be removed in a future version. Please use 'date_format' instead, or read your data in as 'object' dtype and then call 'to_datetime'.\n",
      "  storms = pandas.read_csv(\n",
      "/global/home/users/alexandregeorges/.local/lib/python3.11/site-packages/stormevents/nhc/track.py:1110: RuntimeWarning: invalid value encountered in divide\n",
      "  speeds = pandas.Series(distances / abs(intervals), index=indices)\n"
     ]
    }
   ],
   "source": [
    "# initialize wind forcing\n",
    "wind_forcing = BestTrackForcing(storm=HURRICANE, nws=20)\n",
    "mesh.add_forcing(wind_forcing)"
   ]
  },
  {
   "cell_type": "code",
   "execution_count": 5,
   "metadata": {},
   "outputs": [
    {
     "name": "stderr",
     "output_type": "stream",
     "text": [
      "/global/home/users/alexandregeorges/.local/lib/python3.11/site-packages/stormevents/nhc/track.py:641: FutureWarning: A value is trying to be set on a copy of a DataFrame or Series through chained assignment using an inplace method.\n",
      "The behavior will change in pandas 3.0. This inplace method will never work because the intermediate object on which we are setting values always behaves as a copy.\n",
      "\n",
      "For example, when doing 'df[col].method(value, inplace=True)', try using 'df.method({col: value}, inplace=True)' or df[col] = df[col].method(value) instead, to perform the operation inplace on the original object.\n",
      "\n",
      "\n",
      "  atcf[\"background_pressure\"].fillna(method=\"ffill\", inplace=True)\n",
      "/global/home/users/alexandregeorges/.local/lib/python3.11/site-packages/stormevents/nhc/track.py:641: FutureWarning: Series.fillna with 'method' is deprecated and will raise in a future version. Use obj.ffill() or obj.bfill() instead.\n",
      "  atcf[\"background_pressure\"].fillna(method=\"ffill\", inplace=True)\n",
      "syntax error, unexpected WORD_WORD, expecting SCAN_ATTR or SCAN_DATASET or SCAN_ERROR\n",
      "context: <!DOCTYPE^ HTML PUBLIC \"-//IETF//DTD HTML 2.0//EN\"><html><head><title>503 Service Unavailable</title></head><body><h1>Service Unavailable</h1><p>The server is temporarily unable to service yourrequest due to maintenance downtime or capacityproblems. Please try again later.</p></body></html>\n"
     ]
    },
    {
     "ename": "OSError",
     "evalue": "[Errno -70] NetCDF: DAP server error: b'https://icdc.cen.uni-hamburg.de/thredds/dodsC/ftpthredds/hamtide//k2.hamtide11a.nc'",
     "output_type": "error",
     "traceback": [
      "\u001b[0;31m---------------------------------------------------------------------------\u001b[0m",
      "\u001b[0;31mOSError\u001b[0m                                   Traceback (most recent call last)",
      "Cell \u001b[0;32mIn[5], line 13\u001b[0m\n\u001b[1;32m     11\u001b[0m driver\u001b[38;5;241m.\u001b[39mNSPOOLGM \u001b[38;5;241m=\u001b[39m \u001b[38;5;241m20\u001b[39m\n\u001b[1;32m     12\u001b[0m                                                                                                                                                   \u001b[38;5;66;03m# write driver state to disk\u001b[39;00m\n\u001b[0;32m---> 13\u001b[0m driver\u001b[38;5;241m.\u001b[39mwrite(OUTPUT_DIRECTORY, overwrite\u001b[38;5;241m=\u001b[39m\u001b[38;5;28;01mTrue\u001b[39;00m)\n",
      "File \u001b[0;32m~/.local/lib/python3.11/site-packages/adcircpy/driver.py:403\u001b[0m, in \u001b[0;36mAdcircRun.write\u001b[0;34m(self, output_directory, overwrite, fort14, fort13, fort22, fort15, coldstart, hotstart, driver, nproc)\u001b[0m\n\u001b[1;32m    401\u001b[0m         \u001b[38;5;28mself\u001b[39m\u001b[38;5;241m.\u001b[39mwind_forcing\u001b[38;5;241m.\u001b[39mwrite(output_directory \u001b[38;5;241m/\u001b[39m fort22, overwrite)\n\u001b[1;32m    402\u001b[0m \u001b[38;5;28;01mif\u001b[39;00m coldstart:\n\u001b[0;32m--> 403\u001b[0m     \u001b[38;5;28msuper\u001b[39m()\u001b[38;5;241m.\u001b[39mwrite(\u001b[38;5;124m'\u001b[39m\u001b[38;5;124mcoldstart\u001b[39m\u001b[38;5;124m'\u001b[39m, output_directory \u001b[38;5;241m/\u001b[39m coldstart, overwrite)\n\u001b[1;32m    404\u001b[0m \u001b[38;5;28;01mif\u001b[39;00m hotstart:\n\u001b[1;32m    405\u001b[0m     \u001b[38;5;28msuper\u001b[39m()\u001b[38;5;241m.\u001b[39mwrite(\u001b[38;5;124m'\u001b[39m\u001b[38;5;124mhotstart\u001b[39m\u001b[38;5;124m'\u001b[39m, output_directory \u001b[38;5;241m/\u001b[39m hotstart, overwrite)\n",
      "File \u001b[0;32m~/.local/lib/python3.11/site-packages/adcircpy/fort15.py:572\u001b[0m, in \u001b[0;36mFort15.write\u001b[0;34m(self, runtype, path, overwrite)\u001b[0m\n\u001b[1;32m    570\u001b[0m \u001b[38;5;28;01mif\u001b[39;00m overwrite \u001b[38;5;129;01mor\u001b[39;00m \u001b[38;5;129;01mnot\u001b[39;00m path\u001b[38;5;241m.\u001b[39mexists():\n\u001b[1;32m    571\u001b[0m     \u001b[38;5;28;01mwith\u001b[39;00m \u001b[38;5;28mopen\u001b[39m(path, \u001b[38;5;124m'\u001b[39m\u001b[38;5;124mw\u001b[39m\u001b[38;5;124m'\u001b[39m, newline\u001b[38;5;241m=\u001b[39m\u001b[38;5;124m'\u001b[39m\u001b[38;5;130;01m\\n\u001b[39;00m\u001b[38;5;124m'\u001b[39m) \u001b[38;5;28;01mas\u001b[39;00m f:\n\u001b[0;32m--> 572\u001b[0m         f\u001b[38;5;241m.\u001b[39mwrite(\u001b[38;5;28mself\u001b[39m\u001b[38;5;241m.\u001b[39mfort15(runtype))\n\u001b[1;32m    573\u001b[0m \u001b[38;5;28;01melse\u001b[39;00m:\n\u001b[1;32m    574\u001b[0m     logging\u001b[38;5;241m.\u001b[39mdebug(\u001b[38;5;124mf\u001b[39m\u001b[38;5;124m'\u001b[39m\u001b[38;5;124mskipping existing file \u001b[39m\u001b[38;5;124m\"\u001b[39m\u001b[38;5;132;01m{\u001b[39;00mpath\u001b[38;5;132;01m}\u001b[39;00m\u001b[38;5;124m\"\u001b[39m\u001b[38;5;124m'\u001b[39m)\n",
      "File \u001b[0;32m~/.local/lib/python3.11/site-packages/adcircpy/fort15.py:301\u001b[0m, in \u001b[0;36mFort15.fort15\u001b[0;34m(self, runtype)\u001b[0m\n\u001b[1;32m    266\u001b[0m f\u001b[38;5;241m.\u001b[39mextend(\n\u001b[1;32m    267\u001b[0m     [\n\u001b[1;32m    268\u001b[0m         fort15_line(\n\u001b[0;32m   (...)\u001b[0m\n\u001b[1;32m    296\u001b[0m     ]\n\u001b[1;32m    297\u001b[0m )\n\u001b[1;32m    298\u001b[0m \u001b[38;5;66;03m# ----------------\u001b[39;00m\n\u001b[1;32m    299\u001b[0m \u001b[38;5;66;03m# tidal forcings\u001b[39;00m\n\u001b[1;32m    300\u001b[0m \u001b[38;5;66;03m# ----------------\u001b[39;00m\n\u001b[0;32m--> 301\u001b[0m f\u001b[38;5;241m.\u001b[39mappend(\u001b[38;5;28mself\u001b[39m\u001b[38;5;241m.\u001b[39mget_tidal_forcing())\n\u001b[1;32m    302\u001b[0m f\u001b[38;5;241m.\u001b[39mappend(fort15_line(\u001b[38;5;124mf\u001b[39m\u001b[38;5;124m'\u001b[39m\u001b[38;5;132;01m{\u001b[39;00m\u001b[38;5;28mself\u001b[39m\u001b[38;5;241m.\u001b[39mANGINN\u001b[38;5;132;01m:\u001b[39;00m\u001b[38;5;124mG\u001b[39m\u001b[38;5;132;01m}\u001b[39;00m\u001b[38;5;124m'\u001b[39m, \u001b[38;5;124m'\u001b[39m\u001b[38;5;124mANGINN\u001b[39m\u001b[38;5;124m'\u001b[39m, \u001b[38;5;124m'\u001b[39m\u001b[38;5;124mINNER ANGLE THRESHOLD\u001b[39m\u001b[38;5;124m'\u001b[39m))\n\u001b[1;32m    303\u001b[0m \u001b[38;5;66;03m# ----------------\u001b[39;00m\n\u001b[1;32m    304\u001b[0m \u001b[38;5;66;03m# other boundary forcings go here.\u001b[39;00m\n\u001b[1;32m    305\u001b[0m \u001b[38;5;66;03m# (e.g. river boundary forcing)\u001b[39;00m\n\u001b[0;32m   (...)\u001b[0m\n\u001b[1;32m    335\u001b[0m \u001b[38;5;66;03m# ----------------\u001b[39;00m\n\u001b[1;32m    336\u001b[0m \u001b[38;5;66;03m# elevation out stations\u001b[39;00m\n",
      "File \u001b[0;32m~/.local/lib/python3.11/site-packages/adcircpy/fort15.py:613\u001b[0m, in \u001b[0;36mFort15.get_tidal_forcing\u001b[0;34m(self)\u001b[0m\n\u001b[1;32m    611\u001b[0m         \u001b[38;5;28;01mfor\u001b[39;00m index, row \u001b[38;5;129;01min\u001b[39;00m \u001b[38;5;28mself\u001b[39m\u001b[38;5;241m.\u001b[39mmesh\u001b[38;5;241m.\u001b[39mboundaries\u001b[38;5;241m.\u001b[39mocean\u001b[38;5;241m.\u001b[39mgdf\u001b[38;5;241m.\u001b[39miterrows():\n\u001b[1;32m    612\u001b[0m             vertices \u001b[38;5;241m=\u001b[39m \u001b[38;5;28mself\u001b[39m\u001b[38;5;241m.\u001b[39mmesh\u001b[38;5;241m.\u001b[39mget_xy(crs\u001b[38;5;241m=\u001b[39m\u001b[38;5;124m'\u001b[39m\u001b[38;5;124mEPSG:4326\u001b[39m\u001b[38;5;124m'\u001b[39m)\u001b[38;5;241m.\u001b[39miloc[row\u001b[38;5;241m.\u001b[39mindexes, :]\u001b[38;5;241m.\u001b[39mvalues\n\u001b[0;32m--> 613\u001b[0m             amp, phase \u001b[38;5;241m=\u001b[39m \u001b[38;5;28mself\u001b[39m\u001b[38;5;241m.\u001b[39mmesh\u001b[38;5;241m.\u001b[39mforcings\u001b[38;5;241m.\u001b[39mtides\u001b[38;5;241m.\u001b[39mtidal_dataset(constituent, vertices)\n\u001b[1;32m    614\u001b[0m             f\u001b[38;5;241m.\u001b[39mextend(\n\u001b[1;32m    615\u001b[0m                 fort15_line(\u001b[38;5;124mf\u001b[39m\u001b[38;5;124m'\u001b[39m\u001b[38;5;132;01m{\u001b[39;00mamp[i]\u001b[38;5;132;01m:\u001b[39;00m\u001b[38;5;124m.8e\u001b[39m\u001b[38;5;132;01m}\u001b[39;00m\u001b[38;5;124m \u001b[39m\u001b[38;5;132;01m{\u001b[39;00mphase[i]\u001b[38;5;132;01m:\u001b[39;00m\u001b[38;5;124m.8e\u001b[39m\u001b[38;5;132;01m}\u001b[39;00m\u001b[38;5;124m'\u001b[39m)\n\u001b[1;32m    616\u001b[0m                 \u001b[38;5;28;01mfor\u001b[39;00m i \u001b[38;5;129;01min\u001b[39;00m \u001b[38;5;28mrange\u001b[39m(\u001b[38;5;28mlen\u001b[39m(vertices))\n\u001b[1;32m    617\u001b[0m             )\n\u001b[1;32m    619\u001b[0m \u001b[38;5;28;01mreturn\u001b[39;00m \u001b[38;5;124m'\u001b[39m\u001b[38;5;130;01m\\n\u001b[39;00m\u001b[38;5;124m'\u001b[39m\u001b[38;5;241m.\u001b[39mjoin(f)\n",
      "File \u001b[0;32m~/.local/lib/python3.11/site-packages/adcircpy/forcing/tides/dataset.py:26\u001b[0m, in \u001b[0;36mTidalDataset.__call__\u001b[0;34m(self, constituent, vertices)\u001b[0m\n\u001b[1;32m     17\u001b[0m \u001b[38;5;28;01mdef\u001b[39;00m \u001b[38;5;21m__call__\u001b[39m(\n\u001b[1;32m     18\u001b[0m     \u001b[38;5;28mself\u001b[39m, constituent: \u001b[38;5;28mstr\u001b[39m, vertices: np\u001b[38;5;241m.\u001b[39mndarray\n\u001b[1;32m     19\u001b[0m ) \u001b[38;5;241m-\u001b[39m\u001b[38;5;241m>\u001b[39m Tuple[np\u001b[38;5;241m.\u001b[39mndarray, np\u001b[38;5;241m.\u001b[39mndarray]:\n\u001b[1;32m     20\u001b[0m \u001b[38;5;250m    \u001b[39m\u001b[38;5;124;03m\"\"\"\u001b[39;00m\n\u001b[1;32m     21\u001b[0m \u001b[38;5;124;03m    get tidal ampltidue and phase\u001b[39;00m\n\u001b[1;32m     22\u001b[0m \u001b[38;5;124;03m    :param constituent: tidal constituent\u001b[39;00m\n\u001b[1;32m     23\u001b[0m \u001b[38;5;124;03m    :param vertices: XY locations at which to sample (Mx2)\u001b[39;00m\n\u001b[1;32m     24\u001b[0m \u001b[38;5;124;03m    :return: amplitude and phase arrays at given locations\u001b[39;00m\n\u001b[1;32m     25\u001b[0m \u001b[38;5;124;03m    \"\"\"\u001b[39;00m\n\u001b[0;32m---> 26\u001b[0m     \u001b[38;5;28;01mreturn\u001b[39;00m \u001b[38;5;28mself\u001b[39m\u001b[38;5;241m.\u001b[39mget_amplitude(constituent, vertices), \u001b[38;5;28mself\u001b[39m\u001b[38;5;241m.\u001b[39mget_phase(constituent, vertices)\n",
      "File \u001b[0;32m~/.local/lib/python3.11/site-packages/adcircpy/forcing/tides/hamtide.py:50\u001b[0m, in \u001b[0;36mHAMTIDE.get_amplitude\u001b[0;34m(self, constituent, vertices)\u001b[0m\n\u001b[1;32m     48\u001b[0m     vertices \u001b[38;5;241m=\u001b[39m np\u001b[38;5;241m.\u001b[39masarray(vertices)\n\u001b[1;32m     49\u001b[0m \u001b[38;5;28mself\u001b[39m\u001b[38;5;241m.\u001b[39m_assert_vertices(vertices)\n\u001b[0;32m---> 50\u001b[0m \u001b[38;5;28;01mreturn\u001b[39;00m \u001b[38;5;28mself\u001b[39m\u001b[38;5;241m.\u001b[39m_get_interpolation(\u001b[38;5;124m'\u001b[39m\u001b[38;5;124melevation\u001b[39m\u001b[38;5;124m'\u001b[39m, \u001b[38;5;124m'\u001b[39m\u001b[38;5;124mAMPL\u001b[39m\u001b[38;5;124m'\u001b[39m, constituent, vertices) \u001b[38;5;241m*\u001b[39m \u001b[38;5;241m0.01\u001b[39m\n",
      "File \u001b[0;32m~/.local/lib/python3.11/site-packages/adcircpy/forcing/tides/hamtide.py:111\u001b[0m, in \u001b[0;36mHAMTIDE._get_interpolation\u001b[0;34m(self, variable, netcdf_variable, constituent, vertices)\u001b[0m\n\u001b[1;32m    109\u001b[0m xq \u001b[38;5;241m=\u001b[39m np\u001b[38;5;241m.\u001b[39masarray([x \u001b[38;5;241m+\u001b[39m \u001b[38;5;241m360.0\u001b[39m \u001b[38;5;28;01mif\u001b[39;00m x \u001b[38;5;241m<\u001b[39m \u001b[38;5;241m0.0\u001b[39m \u001b[38;5;28;01melse\u001b[39;00m x \u001b[38;5;28;01mfor\u001b[39;00m x \u001b[38;5;129;01min\u001b[39;00m vertices[:, \u001b[38;5;241m0\u001b[39m]])\u001b[38;5;241m.\u001b[39mflatten()\n\u001b[1;32m    110\u001b[0m yq \u001b[38;5;241m=\u001b[39m vertices[:, \u001b[38;5;241m1\u001b[39m]\u001b[38;5;241m.\u001b[39mflatten()\n\u001b[0;32m--> 111\u001b[0m dx \u001b[38;5;241m=\u001b[39m (\u001b[38;5;28mself\u001b[39m\u001b[38;5;241m.\u001b[39mx[\u001b[38;5;241m-\u001b[39m\u001b[38;5;241m1\u001b[39m] \u001b[38;5;241m-\u001b[39m \u001b[38;5;28mself\u001b[39m\u001b[38;5;241m.\u001b[39mx[\u001b[38;5;241m0\u001b[39m]) \u001b[38;5;241m/\u001b[39m \u001b[38;5;28mlen\u001b[39m(\u001b[38;5;28mself\u001b[39m\u001b[38;5;241m.\u001b[39mx)\n\u001b[1;32m    112\u001b[0m xidx \u001b[38;5;241m=\u001b[39m np\u001b[38;5;241m.\u001b[39mlogical_and(\u001b[38;5;28mself\u001b[39m\u001b[38;5;241m.\u001b[39mx \u001b[38;5;241m>\u001b[39m\u001b[38;5;241m=\u001b[39m np\u001b[38;5;241m.\u001b[39mmin(xq) \u001b[38;5;241m-\u001b[39m \u001b[38;5;241m2.0\u001b[39m \u001b[38;5;241m*\u001b[39m dx, \u001b[38;5;28mself\u001b[39m\u001b[38;5;241m.\u001b[39mx \u001b[38;5;241m<\u001b[39m\u001b[38;5;241m=\u001b[39m np\u001b[38;5;241m.\u001b[39mmax(xq) \u001b[38;5;241m+\u001b[39m \u001b[38;5;241m2.0\u001b[39m \u001b[38;5;241m*\u001b[39m dx)\n\u001b[1;32m    113\u001b[0m dy \u001b[38;5;241m=\u001b[39m (\u001b[38;5;28mself\u001b[39m\u001b[38;5;241m.\u001b[39my[\u001b[38;5;241m-\u001b[39m\u001b[38;5;241m1\u001b[39m] \u001b[38;5;241m-\u001b[39m \u001b[38;5;28mself\u001b[39m\u001b[38;5;241m.\u001b[39my[\u001b[38;5;241m0\u001b[39m]) \u001b[38;5;241m/\u001b[39m \u001b[38;5;28mlen\u001b[39m(\u001b[38;5;28mself\u001b[39m\u001b[38;5;241m.\u001b[39my)\n",
      "File \u001b[0;32m~/.local/lib/python3.11/site-packages/adcircpy/forcing/tides/hamtide.py:61\u001b[0m, in \u001b[0;36mHAMTIDE.x\u001b[0;34m(self)\u001b[0m\n\u001b[1;32m     58\u001b[0m \u001b[38;5;129m@property\u001b[39m\n\u001b[1;32m     59\u001b[0m \u001b[38;5;28;01mdef\u001b[39;00m \u001b[38;5;21mx\u001b[39m(\u001b[38;5;28mself\u001b[39m) \u001b[38;5;241m-\u001b[39m\u001b[38;5;241m>\u001b[39m np\u001b[38;5;241m.\u001b[39mndarray:\n\u001b[1;32m     60\u001b[0m     \u001b[38;5;28;01mif\u001b[39;00m \u001b[38;5;129;01mnot\u001b[39;00m \u001b[38;5;28mhasattr\u001b[39m(\u001b[38;5;28mself\u001b[39m, \u001b[38;5;124m'\u001b[39m\u001b[38;5;124m_x\u001b[39m\u001b[38;5;124m'\u001b[39m):\n\u001b[0;32m---> 61\u001b[0m         \u001b[38;5;28mself\u001b[39m\u001b[38;5;241m.\u001b[39m_x \u001b[38;5;241m=\u001b[39m Dataset(\u001b[38;5;28mself\u001b[39m\u001b[38;5;241m.\u001b[39m_prepend_path(\u001b[38;5;124m'\u001b[39m\u001b[38;5;124mk2.hamtide11a.nc\u001b[39m\u001b[38;5;124m'\u001b[39m))[\u001b[38;5;124m'\u001b[39m\u001b[38;5;124mLON\u001b[39m\u001b[38;5;124m'\u001b[39m][:]\u001b[38;5;241m.\u001b[39mdata\n\u001b[1;32m     62\u001b[0m     \u001b[38;5;28;01mreturn\u001b[39;00m \u001b[38;5;28mself\u001b[39m\u001b[38;5;241m.\u001b[39m_x\n",
      "File \u001b[0;32msrc/netCDF4/_netCDF4.pyx:2463\u001b[0m, in \u001b[0;36mnetCDF4._netCDF4.Dataset.__init__\u001b[0;34m()\u001b[0m\n",
      "File \u001b[0;32msrc/netCDF4/_netCDF4.pyx:2026\u001b[0m, in \u001b[0;36mnetCDF4._netCDF4._ensure_nc_success\u001b[0;34m()\u001b[0m\n",
      "\u001b[0;31mOSError\u001b[0m: [Errno -70] NetCDF: DAP server error: b'https://icdc.cen.uni-hamburg.de/thredds/dodsC/ftpthredds/hamtide//k2.hamtide11a.nc'"
     ]
    }
   ],
   "source": [
    "# instantiate driver object\n",
    "driver = AdcircRun(mesh, start_date, end_date, spinup_time, netcdf=True)   \n",
    "driver.NOUTGE = -3\n",
    "driver.NOUTGV = -3\n",
    "driver.NOUTGM = -3\n",
    "driver.TOUTFGE = 20\n",
    "driver.TOUTFGV = 20\n",
    "driver.TOUTFGM = 20\n",
    "driver.NSPOOLGE = 20\n",
    "driver.NSPOOLGV = 20\n",
    "driver.NSPOOLGM = 20\n",
    "                                                                                                                                                  # write driver state to disk\n",
    "driver.write(OUTPUT_DIRECTORY, overwrite=True)"
   ]
  },
  {
   "cell_type": "code",
   "execution_count": null,
   "metadata": {},
   "outputs": [
    {
     "name": "stdout",
     "output_type": "stream",
     "text": [
      "Bash script created and outputted at staging/runs/Matthew2016_test\n"
     ]
    }
   ],
   "source": [
    "bash_script = rf\"\"\"\n",
    "#!/bin/bash\n",
    "\n",
    "# Rename and modify fort.15 for netcdf output and wind run\n",
    "# mv fort.15.coldstart fort.15\n",
    "\n",
    "# replacement_ele=\"-3 0.000000 15.000000 20                              ! NOUTGE\"\n",
    "# replacement_vel=\"-3 0.000000 15.000000 20                              ! NOUTGV\"\n",
    "rep_NWS=\"8                                                               ! NWS\"\n",
    "# storm_ref=\"2016 09 28 18 1 0.7 1                                           ! IREFYR IREFMO IREFDAY IREFHR StormNumber BLAdj GEOFACTOR\"\n",
    "# metstation=\"0 0 0 0                                                         ! NOUTM TOUTSM TOUTFM NSPOOLM         - MET STATION OUTPUT INFO (UNIT 71 and 72)\"\n",
    "# nstam=\"0                                                               ! NSTAM\"\n",
    "# wind_output=\"-3 0.000000 15.000000 20                              ! NOUTGW TOUTSGW TOUTFGW NSPOOLGW     - GLOBAL WIND STRESS AND ATM PRESSURE OUTPUT INFO (UNIT 73 and 74)\"\n",
    "\n",
    "# sed -i \"s/0 0.000000 0.000000 0                                           ! NOUTGE/$replacement_ele/\" fort.15\n",
    "# sed -i \"s/0 0.000000 0.000000 0                                           ! NOUTGV/$replacement_vel/\" fort.15\n",
    "sed -i \"s/0                                                               ! NWS/$rep_NWS/\" fort.15.hotstart\n",
    "# sed -i \"/0                                                               ! REFTIM/a\\\n",
    "# $storm_ref\" fort.15\n",
    "# sed -i \"/110                                                             ! ANGINN/a\\\n",
    "# $metstation\\n\\\n",
    "# $nstam\" fort.15\n",
    "# sed -i \"/-3 0.000000 15.000000 20                              ! NOUTGV/a\\\n",
    "# $wind_output\" fort.15\n",
    "\n",
    "\n",
    "current_dir=$(pwd)\n",
    "folder_name=$(basename $current_dir)\n",
    "\n",
    "mkdir ../../logs\n",
    "mkdir ../../logs/$folder_name\n",
    "log_header=\"Logs of run attempts and their parameters.\"\n",
    "log_header2=\"Hurricane Matthew2016\"\n",
    "log_header3=\"------------------------------------------\"\n",
    "log_header4=\"id\\t\\t\\t\\t\\t\\tdt\\t\\t\\t\\t\\t\\ttype\\t\\t\\t\\t\\t\\tcomment\"\n",
    "echo -e $log_header > runlog.out\n",
    "echo -e $log_header2 >> runlog.out\n",
    "echo -e $log_header3 >> runlog.out\n",
    "echo -e $log_header4 >> runlog.out\n",
    "\n",
    "cp ../../../scripts/fort22fix.py fort22fix.py\n",
    "python fort22fix.py\n",
    "\n",
    "# call aswip to format fort.22 proper\n",
    "# aswip -n 20 -m 4 -z 2\n",
    "# mv fort.22 ../../logs/$folder_name/fort.22\n",
    "# mv NWS_20_fort.22 fort.22\n",
    "\n",
    "cp ../../../scripts/run_new.sh run.sh\n",
    "cp ../../../scripts/slurmcold.sh slurmcold.sh\n",
    "cp ../../../scripts/slurmhot.sh slurmhot.sh\n",
    "\n",
    "current_dir=$(pwd)\n",
    "folder_name=$(basename $current_dir)\n",
    "sed -i \"s/^#SBATCH --job-name=.*$/#SBATCH --job-name=$folder_name/\" slurmcold.sh\n",
    "sed -i \"s/^#SBATCH --job-name=.*$/#SBATCH --job-name=$folder_name hot/\" slurmhot.sh\n",
    "\n",
    "chmod +x run.sh slurmcold.sh slurmhot.sh\n",
    "\"\"\"\n",
    "\n",
    "# Write the bash script to the output directory\n",
    "with open(OUTPUT_DIRECTORY + '/init.sh', 'w') as file:\n",
    "    file.write(bash_script)\n",
    "\n",
    "print(\"Bash script created and outputted at\", OUTPUT_DIRECTORY)"
   ]
  }
 ],
 "metadata": {
  "kernelspec": {
   "display_name": "hydrogp",
   "language": "python",
   "name": "hydrogp"
  },
  "language_info": {
   "codemirror_mode": {
    "name": "ipython",
    "version": 3
   },
   "file_extension": ".py",
   "mimetype": "text/x-python",
   "name": "python",
   "nbconvert_exporter": "python",
   "pygments_lexer": "ipython3",
   "version": "3.11.7"
  }
 },
 "nbformat": 4,
 "nbformat_minor": 2
}
